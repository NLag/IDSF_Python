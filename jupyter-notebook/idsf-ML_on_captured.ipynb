{
 "cells": [
  {
   "attachments": {},
   "cell_type": "markdown",
   "metadata": {},
   "source": [
    "# IDSF Machine learning using DoS dataset\n",
    "Import data set from csv file\n",
    "\n",
    "NOTE: Using the MQTT-malaria program with only Dos attack\n"
   ]
  },
  {
   "attachments": {},
   "cell_type": "markdown",
   "metadata": {},
   "source": [
    "### 1.Data preparation\n",
    "\n",
    "Drop unique field\n",
    "\n",
    "Drop frame.time_delta_displayed, frame.time_epoch, frame.time_invalid, ip.src, ip.dst, eth.src, eth.dst, frame.cap_len , frame.coloring_rule.name, frame.coloring_rule.string, frame.comment, frame.comment.expert, frame.encap_type, frame.file_off, frame.ignored, frame.incomplete, frame.interface_id , frame.interface_name, frame.link_nr ,frame.marked, frame.md5_hash , frame.number , frame.offset_shift \n",
    "\n",
    "Convert col: mqtt.clientid (use clientid_len), mqtt.msg (yes/no), mqtt.msgid (y/n), mqtt.passwd (y/n), mqtt.topic (y/n) , mqtt.username (y/n)\n",
    "\n",
    "Not using normalize or standadise"
   ]
  },
  {
   "cell_type": "code",
   "execution_count": 1,
   "metadata": {},
   "outputs": [],
   "source": [
    "import pandas as pd\n",
    "import numpy as np\n",
    "import matplotlib.pyplot as plt\n",
    "%matplotlib inline\n",
    "\n",
    "#feature to extract\n",
    "featurenamefile = 'Feature_name.dat'\n",
    "with open(featurenamefile) as file:\n",
    "    feature_name = [line.rstrip() for line in file]\n",
    "file.close()\n",
    "ft_dict = {key: i for i, key in enumerate(feature_name)}\n",
    "n_feature = len(feature_name)"
   ]
  },
  {
   "cell_type": "code",
   "execution_count": 2,
   "metadata": {},
   "outputs": [
    {
     "data": {
      "text/html": [
       "<div>\n",
       "<style scoped>\n",
       "    .dataframe tbody tr th:only-of-type {\n",
       "        vertical-align: middle;\n",
       "    }\n",
       "\n",
       "    .dataframe tbody tr th {\n",
       "        vertical-align: top;\n",
       "    }\n",
       "\n",
       "    .dataframe thead th {\n",
       "        text-align: right;\n",
       "    }\n",
       "</style>\n",
       "<table border=\"1\" class=\"dataframe\">\n",
       "  <thead>\n",
       "    <tr style=\"text-align: right;\">\n",
       "      <th></th>\n",
       "      <th>frame.time_delta</th>\n",
       "      <th>frame.time_relative</th>\n",
       "      <th>ip.len</th>\n",
       "      <th>ip.protocol</th>\n",
       "      <th>ip.src</th>\n",
       "      <th>ip.dst</th>\n",
       "      <th>tcp.srcport</th>\n",
       "      <th>tcp.dstport</th>\n",
       "      <th>tcp.time_relative</th>\n",
       "      <th>tcp.time_delta</th>\n",
       "      <th>...</th>\n",
       "      <th>mqtt.conact.flags.sp</th>\n",
       "      <th>mqtt.conack.val</th>\n",
       "      <th>mqtt.topic_len</th>\n",
       "      <th>mqtt.topic</th>\n",
       "      <th>mqtt.msgid</th>\n",
       "      <th>mqtt.msglen</th>\n",
       "      <th>mqtt.msg</th>\n",
       "      <th>mqtt.sub.qos</th>\n",
       "      <th>mqtt.suback.qos</th>\n",
       "      <th>label</th>\n",
       "    </tr>\n",
       "  </thead>\n",
       "  <tbody>\n",
       "    <tr>\n",
       "      <th>0</th>\n",
       "      <td>13.813409</td>\n",
       "      <td>13.813409</td>\n",
       "      <td>60</td>\n",
       "      <td>6</td>\n",
       "      <td>10.45.0.2</td>\n",
       "      <td>192.168.57.4</td>\n",
       "      <td>47297</td>\n",
       "      <td>1883</td>\n",
       "      <td>0.000000</td>\n",
       "      <td>0.000000</td>\n",
       "      <td>...</td>\n",
       "      <td>NaN</td>\n",
       "      <td>NaN</td>\n",
       "      <td>NaN</td>\n",
       "      <td>NaN</td>\n",
       "      <td>NaN</td>\n",
       "      <td>NaN</td>\n",
       "      <td>NaN</td>\n",
       "      <td>NaN</td>\n",
       "      <td>NaN</td>\n",
       "      <td>NaN</td>\n",
       "    </tr>\n",
       "    <tr>\n",
       "      <th>1</th>\n",
       "      <td>0.002317</td>\n",
       "      <td>13.815727</td>\n",
       "      <td>60</td>\n",
       "      <td>6</td>\n",
       "      <td>192.168.57.4</td>\n",
       "      <td>10.45.0.2</td>\n",
       "      <td>1883</td>\n",
       "      <td>47297</td>\n",
       "      <td>0.000539</td>\n",
       "      <td>0.000539</td>\n",
       "      <td>...</td>\n",
       "      <td>NaN</td>\n",
       "      <td>NaN</td>\n",
       "      <td>NaN</td>\n",
       "      <td>NaN</td>\n",
       "      <td>NaN</td>\n",
       "      <td>NaN</td>\n",
       "      <td>NaN</td>\n",
       "      <td>NaN</td>\n",
       "      <td>NaN</td>\n",
       "      <td>NaN</td>\n",
       "    </tr>\n",
       "    <tr>\n",
       "      <th>2</th>\n",
       "      <td>0.001783</td>\n",
       "      <td>13.817509</td>\n",
       "      <td>52</td>\n",
       "      <td>6</td>\n",
       "      <td>10.45.0.2</td>\n",
       "      <td>192.168.57.4</td>\n",
       "      <td>47297</td>\n",
       "      <td>1883</td>\n",
       "      <td>0.001095</td>\n",
       "      <td>0.000556</td>\n",
       "      <td>...</td>\n",
       "      <td>NaN</td>\n",
       "      <td>NaN</td>\n",
       "      <td>NaN</td>\n",
       "      <td>NaN</td>\n",
       "      <td>NaN</td>\n",
       "      <td>NaN</td>\n",
       "      <td>NaN</td>\n",
       "      <td>NaN</td>\n",
       "      <td>NaN</td>\n",
       "      <td>NaN</td>\n",
       "    </tr>\n",
       "    <tr>\n",
       "      <th>3</th>\n",
       "      <td>0.001332</td>\n",
       "      <td>13.818841</td>\n",
       "      <td>60</td>\n",
       "      <td>6</td>\n",
       "      <td>10.45.0.2</td>\n",
       "      <td>192.168.57.4</td>\n",
       "      <td>41377</td>\n",
       "      <td>1883</td>\n",
       "      <td>0.000000</td>\n",
       "      <td>0.000000</td>\n",
       "      <td>...</td>\n",
       "      <td>NaN</td>\n",
       "      <td>NaN</td>\n",
       "      <td>NaN</td>\n",
       "      <td>NaN</td>\n",
       "      <td>NaN</td>\n",
       "      <td>NaN</td>\n",
       "      <td>NaN</td>\n",
       "      <td>NaN</td>\n",
       "      <td>NaN</td>\n",
       "      <td>NaN</td>\n",
       "    </tr>\n",
       "    <tr>\n",
       "      <th>4</th>\n",
       "      <td>0.001577</td>\n",
       "      <td>13.820418</td>\n",
       "      <td>60</td>\n",
       "      <td>6</td>\n",
       "      <td>192.168.57.4</td>\n",
       "      <td>10.45.0.2</td>\n",
       "      <td>1883</td>\n",
       "      <td>41377</td>\n",
       "      <td>0.000165</td>\n",
       "      <td>0.000165</td>\n",
       "      <td>...</td>\n",
       "      <td>NaN</td>\n",
       "      <td>NaN</td>\n",
       "      <td>NaN</td>\n",
       "      <td>NaN</td>\n",
       "      <td>NaN</td>\n",
       "      <td>NaN</td>\n",
       "      <td>NaN</td>\n",
       "      <td>NaN</td>\n",
       "      <td>NaN</td>\n",
       "      <td>NaN</td>\n",
       "    </tr>\n",
       "  </tbody>\n",
       "</table>\n",
       "<p>5 rows × 50 columns</p>\n",
       "</div>"
      ],
      "text/plain": [
       "   frame.time_delta  frame.time_relative  ip.len  ip.protocol        ip.src  \\\n",
       "0         13.813409            13.813409      60            6     10.45.0.2   \n",
       "1          0.002317            13.815727      60            6  192.168.57.4   \n",
       "2          0.001783            13.817509      52            6     10.45.0.2   \n",
       "3          0.001332            13.818841      60            6     10.45.0.2   \n",
       "4          0.001577            13.820418      60            6  192.168.57.4   \n",
       "\n",
       "         ip.dst  tcp.srcport  tcp.dstport  tcp.time_relative  tcp.time_delta  \\\n",
       "0  192.168.57.4        47297         1883           0.000000        0.000000   \n",
       "1     10.45.0.2         1883        47297           0.000539        0.000539   \n",
       "2  192.168.57.4        47297         1883           0.001095        0.000556   \n",
       "3  192.168.57.4        41377         1883           0.000000        0.000000   \n",
       "4     10.45.0.2         1883        41377           0.000165        0.000165   \n",
       "\n",
       "   ...  mqtt.conact.flags.sp  mqtt.conack.val  mqtt.topic_len  mqtt.topic  \\\n",
       "0  ...                   NaN              NaN             NaN         NaN   \n",
       "1  ...                   NaN              NaN             NaN         NaN   \n",
       "2  ...                   NaN              NaN             NaN         NaN   \n",
       "3  ...                   NaN              NaN             NaN         NaN   \n",
       "4  ...                   NaN              NaN             NaN         NaN   \n",
       "\n",
       "   mqtt.msgid  mqtt.msglen  mqtt.msg  mqtt.sub.qos mqtt.suback.qos  label  \n",
       "0         NaN          NaN       NaN           NaN             NaN    NaN  \n",
       "1         NaN          NaN       NaN           NaN             NaN    NaN  \n",
       "2         NaN          NaN       NaN           NaN             NaN    NaN  \n",
       "3         NaN          NaN       NaN           NaN             NaN    NaN  \n",
       "4         NaN          NaN       NaN           NaN             NaN    NaN  \n",
       "\n",
       "[5 rows x 50 columns]"
      ]
     },
     "execution_count": 2,
     "metadata": {},
     "output_type": "execute_result"
    }
   ],
   "source": [
    "import pandas as pd\n",
    "import numpy as np\n",
    "import matplotlib.pyplot as plt\n",
    "%matplotlib inline\n",
    "\n",
    "filename='captured_dataset_07-04-2023_1226.csv'\n",
    "df = pd.read_csv(filename,na_values='',low_memory=False,names=feature_name, header=None)\n",
    "df.head(5)\n"
   ]
  },
  {
   "attachments": {},
   "cell_type": "markdown",
   "metadata": {},
   "source": [
    "Preprocessing"
   ]
  },
  {
   "cell_type": "code",
   "execution_count": 3,
   "metadata": {},
   "outputs": [],
   "source": [
    "# df['label'] = 0\n",
    "# df.loc[df[\"ip.src\"] == '10.45.0.3', \"label\"] = 1\n",
    "# df.head()\n"
   ]
  },
  {
   "cell_type": "code",
   "execution_count": 4,
   "metadata": {},
   "outputs": [],
   "source": [
    "drop_cols = ['ip.protocol','ip.src', 'ip.dst', 'mqtt.clientid', 'mqtt.willtopic', 'mqtt.willmsg','mqtt.username','mqtt.passwd', 'mqtt.topic','mqtt.msgid','mqtt.msg'] \n",
    "df.drop(drop_cols,axis=1,inplace=True)"
   ]
  },
  {
   "cell_type": "code",
   "execution_count": 5,
   "metadata": {},
   "outputs": [
    {
     "data": {
      "text/html": [
       "<div>\n",
       "<style scoped>\n",
       "    .dataframe tbody tr th:only-of-type {\n",
       "        vertical-align: middle;\n",
       "    }\n",
       "\n",
       "    .dataframe tbody tr th {\n",
       "        vertical-align: top;\n",
       "    }\n",
       "\n",
       "    .dataframe thead th {\n",
       "        text-align: right;\n",
       "    }\n",
       "</style>\n",
       "<table border=\"1\" class=\"dataframe\">\n",
       "  <thead>\n",
       "    <tr style=\"text-align: right;\">\n",
       "      <th></th>\n",
       "      <th>frame.time_delta</th>\n",
       "      <th>frame.time_relative</th>\n",
       "      <th>ip.len</th>\n",
       "      <th>tcp.srcport</th>\n",
       "      <th>tcp.dstport</th>\n",
       "      <th>tcp.time_relative</th>\n",
       "      <th>tcp.time_delta</th>\n",
       "      <th>mqtt.num</th>\n",
       "      <th>mqtt.hdrflags</th>\n",
       "      <th>mqtt.msgtype</th>\n",
       "      <th>...</th>\n",
       "      <th>mqtt.username_len</th>\n",
       "      <th>mqtt.passwd_len</th>\n",
       "      <th>mqtt.conack.flags</th>\n",
       "      <th>mqtt.conact.flags.sp</th>\n",
       "      <th>mqtt.conack.val</th>\n",
       "      <th>mqtt.topic_len</th>\n",
       "      <th>mqtt.msglen</th>\n",
       "      <th>mqtt.sub.qos</th>\n",
       "      <th>mqtt.suback.qos</th>\n",
       "      <th>label</th>\n",
       "    </tr>\n",
       "  </thead>\n",
       "  <tbody>\n",
       "    <tr>\n",
       "      <th>0</th>\n",
       "      <td>13.813409</td>\n",
       "      <td>13.813409</td>\n",
       "      <td>60</td>\n",
       "      <td>47297</td>\n",
       "      <td>1883</td>\n",
       "      <td>0.000000</td>\n",
       "      <td>0.000000</td>\n",
       "      <td>0.0</td>\n",
       "      <td>0.0</td>\n",
       "      <td>0.0</td>\n",
       "      <td>...</td>\n",
       "      <td>0.0</td>\n",
       "      <td>0.0</td>\n",
       "      <td>0.0</td>\n",
       "      <td>0.0</td>\n",
       "      <td>0.0</td>\n",
       "      <td>0.0</td>\n",
       "      <td>0.0</td>\n",
       "      <td>0.0</td>\n",
       "      <td>0.0</td>\n",
       "      <td>0.0</td>\n",
       "    </tr>\n",
       "    <tr>\n",
       "      <th>1</th>\n",
       "      <td>0.002317</td>\n",
       "      <td>13.815727</td>\n",
       "      <td>60</td>\n",
       "      <td>1883</td>\n",
       "      <td>47297</td>\n",
       "      <td>0.000539</td>\n",
       "      <td>0.000539</td>\n",
       "      <td>0.0</td>\n",
       "      <td>0.0</td>\n",
       "      <td>0.0</td>\n",
       "      <td>...</td>\n",
       "      <td>0.0</td>\n",
       "      <td>0.0</td>\n",
       "      <td>0.0</td>\n",
       "      <td>0.0</td>\n",
       "      <td>0.0</td>\n",
       "      <td>0.0</td>\n",
       "      <td>0.0</td>\n",
       "      <td>0.0</td>\n",
       "      <td>0.0</td>\n",
       "      <td>0.0</td>\n",
       "    </tr>\n",
       "    <tr>\n",
       "      <th>2</th>\n",
       "      <td>0.001783</td>\n",
       "      <td>13.817509</td>\n",
       "      <td>52</td>\n",
       "      <td>47297</td>\n",
       "      <td>1883</td>\n",
       "      <td>0.001095</td>\n",
       "      <td>0.000556</td>\n",
       "      <td>0.0</td>\n",
       "      <td>0.0</td>\n",
       "      <td>0.0</td>\n",
       "      <td>...</td>\n",
       "      <td>0.0</td>\n",
       "      <td>0.0</td>\n",
       "      <td>0.0</td>\n",
       "      <td>0.0</td>\n",
       "      <td>0.0</td>\n",
       "      <td>0.0</td>\n",
       "      <td>0.0</td>\n",
       "      <td>0.0</td>\n",
       "      <td>0.0</td>\n",
       "      <td>0.0</td>\n",
       "    </tr>\n",
       "    <tr>\n",
       "      <th>3</th>\n",
       "      <td>0.001332</td>\n",
       "      <td>13.818841</td>\n",
       "      <td>60</td>\n",
       "      <td>41377</td>\n",
       "      <td>1883</td>\n",
       "      <td>0.000000</td>\n",
       "      <td>0.000000</td>\n",
       "      <td>0.0</td>\n",
       "      <td>0.0</td>\n",
       "      <td>0.0</td>\n",
       "      <td>...</td>\n",
       "      <td>0.0</td>\n",
       "      <td>0.0</td>\n",
       "      <td>0.0</td>\n",
       "      <td>0.0</td>\n",
       "      <td>0.0</td>\n",
       "      <td>0.0</td>\n",
       "      <td>0.0</td>\n",
       "      <td>0.0</td>\n",
       "      <td>0.0</td>\n",
       "      <td>0.0</td>\n",
       "    </tr>\n",
       "    <tr>\n",
       "      <th>4</th>\n",
       "      <td>0.001577</td>\n",
       "      <td>13.820418</td>\n",
       "      <td>60</td>\n",
       "      <td>1883</td>\n",
       "      <td>41377</td>\n",
       "      <td>0.000165</td>\n",
       "      <td>0.000165</td>\n",
       "      <td>0.0</td>\n",
       "      <td>0.0</td>\n",
       "      <td>0.0</td>\n",
       "      <td>...</td>\n",
       "      <td>0.0</td>\n",
       "      <td>0.0</td>\n",
       "      <td>0.0</td>\n",
       "      <td>0.0</td>\n",
       "      <td>0.0</td>\n",
       "      <td>0.0</td>\n",
       "      <td>0.0</td>\n",
       "      <td>0.0</td>\n",
       "      <td>0.0</td>\n",
       "      <td>0.0</td>\n",
       "    </tr>\n",
       "  </tbody>\n",
       "</table>\n",
       "<p>5 rows × 39 columns</p>\n",
       "</div>"
      ],
      "text/plain": [
       "   frame.time_delta  frame.time_relative  ip.len  tcp.srcport  tcp.dstport  \\\n",
       "0         13.813409            13.813409      60        47297         1883   \n",
       "1          0.002317            13.815727      60         1883        47297   \n",
       "2          0.001783            13.817509      52        47297         1883   \n",
       "3          0.001332            13.818841      60        41377         1883   \n",
       "4          0.001577            13.820418      60         1883        41377   \n",
       "\n",
       "   tcp.time_relative  tcp.time_delta  mqtt.num  mqtt.hdrflags  mqtt.msgtype  \\\n",
       "0           0.000000        0.000000       0.0            0.0           0.0   \n",
       "1           0.000539        0.000539       0.0            0.0           0.0   \n",
       "2           0.001095        0.000556       0.0            0.0           0.0   \n",
       "3           0.000000        0.000000       0.0            0.0           0.0   \n",
       "4           0.000165        0.000165       0.0            0.0           0.0   \n",
       "\n",
       "   ...  mqtt.username_len  mqtt.passwd_len  mqtt.conack.flags  \\\n",
       "0  ...                0.0              0.0                0.0   \n",
       "1  ...                0.0              0.0                0.0   \n",
       "2  ...                0.0              0.0                0.0   \n",
       "3  ...                0.0              0.0                0.0   \n",
       "4  ...                0.0              0.0                0.0   \n",
       "\n",
       "   mqtt.conact.flags.sp  mqtt.conack.val mqtt.topic_len  mqtt.msglen  \\\n",
       "0                   0.0              0.0            0.0          0.0   \n",
       "1                   0.0              0.0            0.0          0.0   \n",
       "2                   0.0              0.0            0.0          0.0   \n",
       "3                   0.0              0.0            0.0          0.0   \n",
       "4                   0.0              0.0            0.0          0.0   \n",
       "\n",
       "   mqtt.sub.qos  mqtt.suback.qos  label  \n",
       "0           0.0              0.0    0.0  \n",
       "1           0.0              0.0    0.0  \n",
       "2           0.0              0.0    0.0  \n",
       "3           0.0              0.0    0.0  \n",
       "4           0.0              0.0    0.0  \n",
       "\n",
       "[5 rows x 39 columns]"
      ]
     },
     "execution_count": 5,
     "metadata": {},
     "output_type": "execute_result"
    }
   ],
   "source": [
    "df.fillna(0,inplace=True)\n",
    "df.head(5)"
   ]
  },
  {
   "cell_type": "code",
   "execution_count": 6,
   "metadata": {},
   "outputs": [
    {
     "data": {
      "text/html": [
       "<div>\n",
       "<style scoped>\n",
       "    .dataframe tbody tr th:only-of-type {\n",
       "        vertical-align: middle;\n",
       "    }\n",
       "\n",
       "    .dataframe tbody tr th {\n",
       "        vertical-align: top;\n",
       "    }\n",
       "\n",
       "    .dataframe thead th {\n",
       "        text-align: right;\n",
       "    }\n",
       "</style>\n",
       "<table border=\"1\" class=\"dataframe\">\n",
       "  <thead>\n",
       "    <tr style=\"text-align: right;\">\n",
       "      <th></th>\n",
       "      <th>frame.time_delta</th>\n",
       "      <th>frame.time_relative</th>\n",
       "      <th>ip.len</th>\n",
       "      <th>tcp.srcport</th>\n",
       "      <th>tcp.dstport</th>\n",
       "      <th>tcp.time_relative</th>\n",
       "      <th>tcp.time_delta</th>\n",
       "      <th>mqtt.num</th>\n",
       "      <th>mqtt.hdrflags</th>\n",
       "      <th>mqtt.msgtype</th>\n",
       "      <th>...</th>\n",
       "      <th>mqtt.username_len</th>\n",
       "      <th>mqtt.passwd_len</th>\n",
       "      <th>mqtt.conack.flags</th>\n",
       "      <th>mqtt.conact.flags.sp</th>\n",
       "      <th>mqtt.conack.val</th>\n",
       "      <th>mqtt.topic_len</th>\n",
       "      <th>mqtt.msglen</th>\n",
       "      <th>mqtt.sub.qos</th>\n",
       "      <th>mqtt.suback.qos</th>\n",
       "      <th>label</th>\n",
       "    </tr>\n",
       "  </thead>\n",
       "  <tbody>\n",
       "    <tr>\n",
       "      <th>0</th>\n",
       "      <td>0.000000</td>\n",
       "      <td>13.813409</td>\n",
       "      <td>60</td>\n",
       "      <td>47297</td>\n",
       "      <td>1883</td>\n",
       "      <td>0.000000</td>\n",
       "      <td>0.000000</td>\n",
       "      <td>0.0</td>\n",
       "      <td>0.0</td>\n",
       "      <td>0.0</td>\n",
       "      <td>...</td>\n",
       "      <td>0.0</td>\n",
       "      <td>0.0</td>\n",
       "      <td>0.0</td>\n",
       "      <td>0.0</td>\n",
       "      <td>0.0</td>\n",
       "      <td>0.0</td>\n",
       "      <td>0.0</td>\n",
       "      <td>0.0</td>\n",
       "      <td>0.0</td>\n",
       "      <td>0.0</td>\n",
       "    </tr>\n",
       "    <tr>\n",
       "      <th>1</th>\n",
       "      <td>0.002317</td>\n",
       "      <td>13.815727</td>\n",
       "      <td>60</td>\n",
       "      <td>1883</td>\n",
       "      <td>47297</td>\n",
       "      <td>0.000539</td>\n",
       "      <td>0.000539</td>\n",
       "      <td>0.0</td>\n",
       "      <td>0.0</td>\n",
       "      <td>0.0</td>\n",
       "      <td>...</td>\n",
       "      <td>0.0</td>\n",
       "      <td>0.0</td>\n",
       "      <td>0.0</td>\n",
       "      <td>0.0</td>\n",
       "      <td>0.0</td>\n",
       "      <td>0.0</td>\n",
       "      <td>0.0</td>\n",
       "      <td>0.0</td>\n",
       "      <td>0.0</td>\n",
       "      <td>0.0</td>\n",
       "    </tr>\n",
       "    <tr>\n",
       "      <th>2</th>\n",
       "      <td>0.001783</td>\n",
       "      <td>13.817509</td>\n",
       "      <td>52</td>\n",
       "      <td>47297</td>\n",
       "      <td>1883</td>\n",
       "      <td>0.001095</td>\n",
       "      <td>0.000556</td>\n",
       "      <td>0.0</td>\n",
       "      <td>0.0</td>\n",
       "      <td>0.0</td>\n",
       "      <td>...</td>\n",
       "      <td>0.0</td>\n",
       "      <td>0.0</td>\n",
       "      <td>0.0</td>\n",
       "      <td>0.0</td>\n",
       "      <td>0.0</td>\n",
       "      <td>0.0</td>\n",
       "      <td>0.0</td>\n",
       "      <td>0.0</td>\n",
       "      <td>0.0</td>\n",
       "      <td>0.0</td>\n",
       "    </tr>\n",
       "    <tr>\n",
       "      <th>3</th>\n",
       "      <td>0.001332</td>\n",
       "      <td>13.818841</td>\n",
       "      <td>60</td>\n",
       "      <td>41377</td>\n",
       "      <td>1883</td>\n",
       "      <td>0.000000</td>\n",
       "      <td>0.000000</td>\n",
       "      <td>0.0</td>\n",
       "      <td>0.0</td>\n",
       "      <td>0.0</td>\n",
       "      <td>...</td>\n",
       "      <td>0.0</td>\n",
       "      <td>0.0</td>\n",
       "      <td>0.0</td>\n",
       "      <td>0.0</td>\n",
       "      <td>0.0</td>\n",
       "      <td>0.0</td>\n",
       "      <td>0.0</td>\n",
       "      <td>0.0</td>\n",
       "      <td>0.0</td>\n",
       "      <td>0.0</td>\n",
       "    </tr>\n",
       "    <tr>\n",
       "      <th>4</th>\n",
       "      <td>0.001577</td>\n",
       "      <td>13.820418</td>\n",
       "      <td>60</td>\n",
       "      <td>1883</td>\n",
       "      <td>41377</td>\n",
       "      <td>0.000165</td>\n",
       "      <td>0.000165</td>\n",
       "      <td>0.0</td>\n",
       "      <td>0.0</td>\n",
       "      <td>0.0</td>\n",
       "      <td>...</td>\n",
       "      <td>0.0</td>\n",
       "      <td>0.0</td>\n",
       "      <td>0.0</td>\n",
       "      <td>0.0</td>\n",
       "      <td>0.0</td>\n",
       "      <td>0.0</td>\n",
       "      <td>0.0</td>\n",
       "      <td>0.0</td>\n",
       "      <td>0.0</td>\n",
       "      <td>0.0</td>\n",
       "    </tr>\n",
       "  </tbody>\n",
       "</table>\n",
       "<p>5 rows × 39 columns</p>\n",
       "</div>"
      ],
      "text/plain": [
       "   frame.time_delta  frame.time_relative  ip.len  tcp.srcport  tcp.dstport  \\\n",
       "0          0.000000            13.813409      60        47297         1883   \n",
       "1          0.002317            13.815727      60         1883        47297   \n",
       "2          0.001783            13.817509      52        47297         1883   \n",
       "3          0.001332            13.818841      60        41377         1883   \n",
       "4          0.001577            13.820418      60         1883        41377   \n",
       "\n",
       "   tcp.time_relative  tcp.time_delta  mqtt.num  mqtt.hdrflags  mqtt.msgtype  \\\n",
       "0           0.000000        0.000000       0.0            0.0           0.0   \n",
       "1           0.000539        0.000539       0.0            0.0           0.0   \n",
       "2           0.001095        0.000556       0.0            0.0           0.0   \n",
       "3           0.000000        0.000000       0.0            0.0           0.0   \n",
       "4           0.000165        0.000165       0.0            0.0           0.0   \n",
       "\n",
       "   ...  mqtt.username_len  mqtt.passwd_len  mqtt.conack.flags  \\\n",
       "0  ...                0.0              0.0                0.0   \n",
       "1  ...                0.0              0.0                0.0   \n",
       "2  ...                0.0              0.0                0.0   \n",
       "3  ...                0.0              0.0                0.0   \n",
       "4  ...                0.0              0.0                0.0   \n",
       "\n",
       "   mqtt.conact.flags.sp  mqtt.conack.val mqtt.topic_len  mqtt.msglen  \\\n",
       "0                   0.0              0.0            0.0          0.0   \n",
       "1                   0.0              0.0            0.0          0.0   \n",
       "2                   0.0              0.0            0.0          0.0   \n",
       "3                   0.0              0.0            0.0          0.0   \n",
       "4                   0.0              0.0            0.0          0.0   \n",
       "\n",
       "   mqtt.sub.qos  mqtt.suback.qos  label  \n",
       "0           0.0              0.0    0.0  \n",
       "1           0.0              0.0    0.0  \n",
       "2           0.0              0.0    0.0  \n",
       "3           0.0              0.0    0.0  \n",
       "4           0.0              0.0    0.0  \n",
       "\n",
       "[5 rows x 39 columns]"
      ]
     },
     "execution_count": 6,
     "metadata": {},
     "output_type": "execute_result"
    }
   ],
   "source": [
    "df.loc[0,'frame.time_delta'] = 0\n",
    "df.sort_values('frame.time_relative',inplace=True)\n",
    "df.head(5)"
   ]
  },
  {
   "cell_type": "code",
   "execution_count": 7,
   "metadata": {},
   "outputs": [
    {
     "data": {
      "text/html": [
       "<div>\n",
       "<style scoped>\n",
       "    .dataframe tbody tr th:only-of-type {\n",
       "        vertical-align: middle;\n",
       "    }\n",
       "\n",
       "    .dataframe tbody tr th {\n",
       "        vertical-align: top;\n",
       "    }\n",
       "\n",
       "    .dataframe thead th {\n",
       "        text-align: right;\n",
       "    }\n",
       "</style>\n",
       "<table border=\"1\" class=\"dataframe\">\n",
       "  <thead>\n",
       "    <tr style=\"text-align: right;\">\n",
       "      <th></th>\n",
       "      <th>frame.time_delta</th>\n",
       "      <th>frame.time_relative</th>\n",
       "      <th>ip.len</th>\n",
       "      <th>tcp.srcport</th>\n",
       "      <th>tcp.dstport</th>\n",
       "      <th>tcp.time_relative</th>\n",
       "      <th>tcp.time_delta</th>\n",
       "      <th>mqtt.num</th>\n",
       "      <th>mqtt.hdrflags</th>\n",
       "      <th>mqtt.msgtype</th>\n",
       "      <th>...</th>\n",
       "      <th>mqtt.username_len</th>\n",
       "      <th>mqtt.passwd_len</th>\n",
       "      <th>mqtt.conack.flags</th>\n",
       "      <th>mqtt.conact.flags.sp</th>\n",
       "      <th>mqtt.conack.val</th>\n",
       "      <th>mqtt.topic_len</th>\n",
       "      <th>mqtt.msglen</th>\n",
       "      <th>mqtt.sub.qos</th>\n",
       "      <th>mqtt.suback.qos</th>\n",
       "      <th>label</th>\n",
       "    </tr>\n",
       "  </thead>\n",
       "  <tbody>\n",
       "    <tr>\n",
       "      <th>0</th>\n",
       "      <td>0.000000</td>\n",
       "      <td>13.813409</td>\n",
       "      <td>60</td>\n",
       "      <td>47297</td>\n",
       "      <td>1883</td>\n",
       "      <td>0.000000</td>\n",
       "      <td>0.000000</td>\n",
       "      <td>0.0</td>\n",
       "      <td>0.0</td>\n",
       "      <td>0.0</td>\n",
       "      <td>...</td>\n",
       "      <td>0.0</td>\n",
       "      <td>0.0</td>\n",
       "      <td>0.0</td>\n",
       "      <td>0.0</td>\n",
       "      <td>0.0</td>\n",
       "      <td>0.0</td>\n",
       "      <td>0.0</td>\n",
       "      <td>0.0</td>\n",
       "      <td>0.0</td>\n",
       "      <td>0.0</td>\n",
       "    </tr>\n",
       "    <tr>\n",
       "      <th>1</th>\n",
       "      <td>0.002317</td>\n",
       "      <td>13.815727</td>\n",
       "      <td>60</td>\n",
       "      <td>1883</td>\n",
       "      <td>47297</td>\n",
       "      <td>0.000539</td>\n",
       "      <td>0.000539</td>\n",
       "      <td>0.0</td>\n",
       "      <td>0.0</td>\n",
       "      <td>0.0</td>\n",
       "      <td>...</td>\n",
       "      <td>0.0</td>\n",
       "      <td>0.0</td>\n",
       "      <td>0.0</td>\n",
       "      <td>0.0</td>\n",
       "      <td>0.0</td>\n",
       "      <td>0.0</td>\n",
       "      <td>0.0</td>\n",
       "      <td>0.0</td>\n",
       "      <td>0.0</td>\n",
       "      <td>0.0</td>\n",
       "    </tr>\n",
       "    <tr>\n",
       "      <th>2</th>\n",
       "      <td>0.001783</td>\n",
       "      <td>13.817509</td>\n",
       "      <td>52</td>\n",
       "      <td>47297</td>\n",
       "      <td>1883</td>\n",
       "      <td>0.001095</td>\n",
       "      <td>0.000556</td>\n",
       "      <td>0.0</td>\n",
       "      <td>0.0</td>\n",
       "      <td>0.0</td>\n",
       "      <td>...</td>\n",
       "      <td>0.0</td>\n",
       "      <td>0.0</td>\n",
       "      <td>0.0</td>\n",
       "      <td>0.0</td>\n",
       "      <td>0.0</td>\n",
       "      <td>0.0</td>\n",
       "      <td>0.0</td>\n",
       "      <td>0.0</td>\n",
       "      <td>0.0</td>\n",
       "      <td>0.0</td>\n",
       "    </tr>\n",
       "    <tr>\n",
       "      <th>3</th>\n",
       "      <td>0.001332</td>\n",
       "      <td>13.818841</td>\n",
       "      <td>60</td>\n",
       "      <td>41377</td>\n",
       "      <td>1883</td>\n",
       "      <td>0.000000</td>\n",
       "      <td>0.000000</td>\n",
       "      <td>0.0</td>\n",
       "      <td>0.0</td>\n",
       "      <td>0.0</td>\n",
       "      <td>...</td>\n",
       "      <td>0.0</td>\n",
       "      <td>0.0</td>\n",
       "      <td>0.0</td>\n",
       "      <td>0.0</td>\n",
       "      <td>0.0</td>\n",
       "      <td>0.0</td>\n",
       "      <td>0.0</td>\n",
       "      <td>0.0</td>\n",
       "      <td>0.0</td>\n",
       "      <td>0.0</td>\n",
       "    </tr>\n",
       "    <tr>\n",
       "      <th>4</th>\n",
       "      <td>0.001577</td>\n",
       "      <td>13.820418</td>\n",
       "      <td>60</td>\n",
       "      <td>1883</td>\n",
       "      <td>41377</td>\n",
       "      <td>0.000165</td>\n",
       "      <td>0.000165</td>\n",
       "      <td>0.0</td>\n",
       "      <td>0.0</td>\n",
       "      <td>0.0</td>\n",
       "      <td>...</td>\n",
       "      <td>0.0</td>\n",
       "      <td>0.0</td>\n",
       "      <td>0.0</td>\n",
       "      <td>0.0</td>\n",
       "      <td>0.0</td>\n",
       "      <td>0.0</td>\n",
       "      <td>0.0</td>\n",
       "      <td>0.0</td>\n",
       "      <td>0.0</td>\n",
       "      <td>0.0</td>\n",
       "    </tr>\n",
       "  </tbody>\n",
       "</table>\n",
       "<p>5 rows × 39 columns</p>\n",
       "</div>"
      ],
      "text/plain": [
       "   frame.time_delta  frame.time_relative  ip.len  tcp.srcport  tcp.dstport  \\\n",
       "0          0.000000            13.813409      60        47297         1883   \n",
       "1          0.002317            13.815727      60         1883        47297   \n",
       "2          0.001783            13.817509      52        47297         1883   \n",
       "3          0.001332            13.818841      60        41377         1883   \n",
       "4          0.001577            13.820418      60         1883        41377   \n",
       "\n",
       "   tcp.time_relative  tcp.time_delta  mqtt.num  mqtt.hdrflags  mqtt.msgtype  \\\n",
       "0           0.000000        0.000000       0.0            0.0           0.0   \n",
       "1           0.000539        0.000539       0.0            0.0           0.0   \n",
       "2           0.001095        0.000556       0.0            0.0           0.0   \n",
       "3           0.000000        0.000000       0.0            0.0           0.0   \n",
       "4           0.000165        0.000165       0.0            0.0           0.0   \n",
       "\n",
       "   ...  mqtt.username_len  mqtt.passwd_len  mqtt.conack.flags  \\\n",
       "0  ...                0.0              0.0                0.0   \n",
       "1  ...                0.0              0.0                0.0   \n",
       "2  ...                0.0              0.0                0.0   \n",
       "3  ...                0.0              0.0                0.0   \n",
       "4  ...                0.0              0.0                0.0   \n",
       "\n",
       "   mqtt.conact.flags.sp  mqtt.conack.val mqtt.topic_len  mqtt.msglen  \\\n",
       "0                   0.0              0.0            0.0          0.0   \n",
       "1                   0.0              0.0            0.0          0.0   \n",
       "2                   0.0              0.0            0.0          0.0   \n",
       "3                   0.0              0.0            0.0          0.0   \n",
       "4                   0.0              0.0            0.0          0.0   \n",
       "\n",
       "   mqtt.sub.qos  mqtt.suback.qos  label  \n",
       "0           0.0              0.0    0.0  \n",
       "1           0.0              0.0    0.0  \n",
       "2           0.0              0.0    0.0  \n",
       "3           0.0              0.0    0.0  \n",
       "4           0.0              0.0    0.0  \n",
       "\n",
       "[5 rows x 39 columns]"
      ]
     },
     "execution_count": 7,
     "metadata": {},
     "output_type": "execute_result"
    }
   ],
   "source": [
    "df.loc[df[\"mqtt.protoname\"] == 'MQTT', \"mqtt.protoname\"] = 1\n",
    "df.head()\n"
   ]
  },
  {
   "cell_type": "code",
   "execution_count": 8,
   "metadata": {},
   "outputs": [],
   "source": [
    "df['mqtt.protoname'] = df['mqtt.protoname'].apply(pd.to_numeric) \n",
    "bin_col = ['mqtt.dupflag','mqtt.retain','mqtt.protoname','mqtt.conflag.uname','mqtt.conflag.passwd','mqtt.conflag.willretain','mqtt.conflag.willqos','mqtt.conflag.willflag','mqtt.conflag.cleansess','mqtt.conflag.reserved','mqtt.conact.flags.sp']\n"
   ]
  },
  {
   "cell_type": "code",
   "execution_count": 9,
   "metadata": {},
   "outputs": [],
   "source": [
    "df['label'] = df['label'].astype(int)"
   ]
  },
  {
   "cell_type": "code",
   "execution_count": 10,
   "metadata": {},
   "outputs": [],
   "source": [
    "# # no need\n",
    "# # special_col = ['mqtt.hdrflags','mqtt.conflags','mqtt.conack.flags']\n",
    "# # for col in special_col:\n",
    "# #     df[col].fillna('0x0',inplace=True)\n",
    "# #     df[col] = df[col].apply(lambda x: int(x,16))\n",
    "\n",
    "# bin_col = ['mqtt.conack.flags.reserved','mqtt.conack.flags.sp','mqtt.conflag.cleansess','mqtt.conflag.passwd','mqtt.conflag.qos','mqtt.conflag.reserved','mqtt.conflag.retain','mqtt.conflag.uname','mqtt.conflag.willflag','mqtt.dupflag','mqtt.retain']\n",
    "\n",
    "# nominal_col = ['mqtt.conack.flags','mqtt.protoname','mqtt.msgtype','mqtt.qos','mqtt.sub.qos','mqtt.suback.qos','mqtt.ver','mqtt.willmsg']\n",
    "# # df['mqtt.protoname'] = df['mqtt.protoname'].apply(lambda x: 1 if x == 'MQTT' else 0)\n",
    "\n",
    "# numeric_col = ['frame.time_delta','frame.time_relative','tcp.srcport','tcp.dstport','frame.len','mqtt.clientid_len','mqtt.conack.val','mqtt.kalive','mqtt.len','mqtt.passwd_len','mqtt.proto_len','mqtt.topic_len','mqtt.username_len','mqtt.willmsg_len','mqtt.willtopic_len']\n",
    "\n",
    "# # df['frame.time_delta'] = pd.to_numeric( df['frame.time_delta'] )\n",
    "# # df['frame.time_relative'] =  pd.to_numeric(df['frame.time_relative'])\n",
    "\n",
    "# df.fillna(0,inplace=True)\n",
    "\n",
    "# df['type'] = df['type'].apply(lambda x: 0 if x == 'normal' else 1)"
   ]
  },
  {
   "attachments": {},
   "cell_type": "markdown",
   "metadata": {},
   "source": [
    "Explore dataset:"
   ]
  },
  {
   "cell_type": "code",
   "execution_count": 11,
   "metadata": {},
   "outputs": [
    {
     "name": "stdout",
     "output_type": "stream",
     "text": [
      "size row,col: 206353 39\n",
      "['frame.time_delta', 'frame.time_relative', 'ip.len', 'tcp.srcport', 'tcp.dstport', 'tcp.time_relative', 'tcp.time_delta', 'mqtt.num', 'mqtt.hdrflags', 'mqtt.msgtype', 'mqtt.dupflag', 'mqtt.qos', 'mqtt.retain', 'mqtt.len', 'mqtt.proto_len', 'mqtt.protoname', 'mqtt.ver', 'mqtt.conflags', 'mqtt.conflag.uname', 'mqtt.conflag.passwd', 'mqtt.conflag.willretain', 'mqtt.conflag.willqos', 'mqtt.conflag.willflag', 'mqtt.conflag.cleansess', 'mqtt.conflag.reserved', 'mqtt.kalive', 'mqtt.clientid_len', 'mqtt.willtopic_len', 'mqtt.willmsg_len', 'mqtt.username_len', 'mqtt.passwd_len', 'mqtt.conack.flags', 'mqtt.conact.flags.sp', 'mqtt.conack.val', 'mqtt.topic_len', 'mqtt.msglen', 'mqtt.sub.qos', 'mqtt.suback.qos', 'label']\n",
      "\n",
      "frame.time_delta           float64\n",
      "frame.time_relative        float64\n",
      "ip.len                       int64\n",
      "tcp.srcport                  int64\n",
      "tcp.dstport                  int64\n",
      "tcp.time_relative          float64\n",
      "tcp.time_delta             float64\n",
      "mqtt.num                   float64\n",
      "mqtt.hdrflags              float64\n",
      "mqtt.msgtype               float64\n",
      "mqtt.dupflag               float64\n",
      "mqtt.qos                   float64\n",
      "mqtt.retain                float64\n",
      "mqtt.len                   float64\n",
      "mqtt.proto_len             float64\n",
      "mqtt.protoname               int64\n",
      "mqtt.ver                   float64\n",
      "mqtt.conflags              float64\n",
      "mqtt.conflag.uname         float64\n",
      "mqtt.conflag.passwd        float64\n",
      "mqtt.conflag.willretain    float64\n",
      "mqtt.conflag.willqos       float64\n",
      "mqtt.conflag.willflag      float64\n",
      "mqtt.conflag.cleansess     float64\n",
      "mqtt.conflag.reserved      float64\n",
      "mqtt.kalive                float64\n",
      "mqtt.clientid_len          float64\n",
      "mqtt.willtopic_len         float64\n",
      "mqtt.willmsg_len           float64\n",
      "mqtt.username_len          float64\n",
      "mqtt.passwd_len            float64\n",
      "mqtt.conack.flags          float64\n",
      "mqtt.conact.flags.sp       float64\n",
      "mqtt.conack.val            float64\n",
      "mqtt.topic_len             float64\n",
      "mqtt.msglen                float64\n",
      "mqtt.sub.qos               float64\n",
      "mqtt.suback.qos            float64\n",
      "label                        int64\n",
      "dtype: object\n",
      "\n",
      "0   frame.time_delta  : \n",
      "0.003906    84\n",
      "0.003629    82\n",
      "0.012337    80\n",
      "0.003458    69\n",
      "0.003659    68\n",
      "            ..\n",
      "0.005819     1\n",
      "0.005647     1\n",
      "0.005495     1\n",
      "0.003937     1\n",
      "3.063297     1\n",
      "Name: frame.time_delta, Length: 19113, dtype: int64\n",
      "1   frame.time_relative  : \n",
      "958.399499     80\n",
      "826.507731     62\n",
      "904.469727     53\n",
      "809.146150     48\n",
      "813.112819     46\n",
      "               ..\n",
      "857.342723      1\n",
      "857.345336      1\n",
      "857.355561      1\n",
      "857.370142      1\n",
      "3089.268604     1\n",
      "Name: frame.time_relative, Length: 62507, dtype: int64\n",
      "2   ip.len  : \n",
      "1400    42222\n",
      "56      12791\n",
      "84      11839\n",
      "88      10118\n",
      "80       8071\n",
      "        ...  \n",
      "760         1\n",
      "97          1\n",
      "420         1\n",
      "927         1\n",
      "269         1\n",
      "Name: ip.len, Length: 689, dtype: int64\n",
      "3   tcp.srcport  : \n",
      "1883     102271\n",
      "42027    101595\n",
      "40019        44\n",
      "34823        44\n",
      "51549        44\n",
      "          ...  \n",
      "47297        10\n",
      "47231        10\n",
      "47913        10\n",
      "59779        10\n",
      "35039        10\n",
      "Name: tcp.srcport, Length: 102, dtype: int64\n",
      "4   tcp.dstport  : \n",
      "1883     104082\n",
      "42027    100719\n",
      "49823        40\n",
      "48877        29\n",
      "50661        27\n",
      "          ...  \n",
      "47913         9\n",
      "35553         9\n",
      "47297         9\n",
      "33631         9\n",
      "35039         9\n",
      "Name: tcp.dstport, Length: 102, dtype: int64\n",
      "5   tcp.time_relative  : \n",
      "0.000000       101\n",
      "27.084019       80\n",
      "12.914794       62\n",
      "21.707708       53\n",
      "10.968640       48\n",
      "              ... \n",
      "17.703302        1\n",
      "17.703543        1\n",
      "17.703603        1\n",
      "17.703832        1\n",
      "3075.211757      1\n",
      "Name: tcp.time_relative, Length: 62407, dtype: int64\n",
      "6   tcp.time_delta  : \n",
      "0.000000    101\n",
      "0.000126     80\n",
      "0.000093     62\n",
      "0.000114     53\n",
      "0.000072     52\n",
      "           ... \n",
      "0.000229      1\n",
      "0.000908      1\n",
      "0.000271      1\n",
      "0.000518      1\n",
      "0.000452      1\n",
      "Name: tcp.time_delta, Length: 54686, dtype: int64\n",
      "7   mqtt.num  : \n",
      "1.0     56753\n",
      "2.0     29461\n",
      "3.0     24016\n",
      "4.0     20100\n",
      "5.0     17000\n",
      "        ...  \n",
      "78.0        1\n",
      "79.0        1\n",
      "63.0        1\n",
      "80.0        1\n",
      "64.0        1\n",
      "Name: mqtt.num, Length: 81, dtype: int64\n",
      "8   mqtt.hdrflags  : \n",
      "64.0     100456\n",
      "50.0      83894\n",
      "0.0        5853\n",
      "48.0       1345\n",
      "97.0       1080\n",
      "          ...  \n",
      "253.0         1\n",
      "245.0         1\n",
      "182.0         1\n",
      "198.0         1\n",
      "224.0         1\n",
      "Name: mqtt.hdrflags, Length: 125, dtype: int64\n",
      "9   mqtt.msgtype  : \n",
      "4.0     102740\n",
      "3.0      89830\n",
      "0.0       6089\n",
      "6.0       5032\n",
      "2.0       1031\n",
      "7.0       1000\n",
      "5.0        388\n",
      "1.0        101\n",
      "10.0       100\n",
      "9.0         17\n",
      "15.0         8\n",
      "11.0         7\n",
      "12.0         6\n",
      "13.0         2\n",
      "14.0         2\n",
      "Name: mqtt.msgtype, dtype: int64\n",
      "10   mqtt.dupflag  : \n",
      "0.0    204905\n",
      "1.0      1448\n",
      "Name: mqtt.dupflag, dtype: int64\n",
      "11   mqtt.qos  : \n",
      "0.0    119492\n",
      "1.0     84386\n",
      "2.0      1244\n",
      "3.0      1231\n",
      "Name: mqtt.qos, dtype: int64\n",
      "12   mqtt.retain  : \n",
      "0.0    203798\n",
      "1.0      2555\n",
      "Name: mqtt.retain, dtype: int64\n",
      "13   mqtt.len  : \n",
      "2.0        100937\n",
      "165.0        6570\n",
      "166.0        6536\n",
      "164.0        6322\n",
      "167.0        6273\n",
      "            ...  \n",
      "8833.0          1\n",
      "120.0           1\n",
      "13183.0         1\n",
      "12569.0         1\n",
      "106.0           1\n",
      "Name: mqtt.len, Length: 195, dtype: int64\n",
      "14   mqtt.proto_len  : \n",
      "0.0    206252\n",
      "4.0       101\n",
      "Name: mqtt.proto_len, dtype: int64\n",
      "15   mqtt.protoname  : \n",
      "0    206252\n",
      "1       101\n",
      "Name: mqtt.protoname, dtype: int64\n",
      "16   mqtt.ver  : \n",
      "0.0    206252\n",
      "4.0       101\n",
      "Name: mqtt.ver, dtype: int64\n",
      "17   mqtt.conflags  : \n",
      "0.0    206252\n",
      "2.0       101\n",
      "Name: mqtt.conflags, dtype: int64\n",
      "18   mqtt.conflag.uname  : \n",
      "0.0    206353\n",
      "Name: mqtt.conflag.uname, dtype: int64\n",
      "19   mqtt.conflag.passwd  : \n",
      "0.0    206353\n",
      "Name: mqtt.conflag.passwd, dtype: int64\n",
      "20   mqtt.conflag.willretain  : \n",
      "0.0    206353\n",
      "Name: mqtt.conflag.willretain, dtype: int64\n",
      "21   mqtt.conflag.willqos  : \n",
      "0.0    206353\n",
      "Name: mqtt.conflag.willqos, dtype: int64\n",
      "22   mqtt.conflag.willflag  : \n",
      "0.0    206353\n",
      "Name: mqtt.conflag.willflag, dtype: int64\n",
      "23   mqtt.conflag.cleansess  : \n",
      "0.0    206252\n",
      "1.0       101\n",
      "Name: mqtt.conflag.cleansess, dtype: int64\n",
      "24   mqtt.conflag.reserved  : \n",
      "0.0    206353\n",
      "Name: mqtt.conflag.reserved, dtype: int64\n",
      "25   mqtt.kalive  : \n",
      "0.0       206252\n",
      "3600.0       100\n",
      "60.0           1\n",
      "Name: mqtt.kalive, dtype: int64\n",
      "26   mqtt.clientid_len  : \n",
      "0.0     206352\n",
      "31.0         1\n",
      "Name: mqtt.clientid_len, dtype: int64\n",
      "27   mqtt.willtopic_len  : \n",
      "0.0    206353\n",
      "Name: mqtt.willtopic_len, dtype: int64\n",
      "28   mqtt.willmsg_len  : \n",
      "0.0    206353\n",
      "Name: mqtt.willmsg_len, dtype: int64\n",
      "29   mqtt.username_len  : \n",
      "0.0    206353\n",
      "Name: mqtt.username_len, dtype: int64\n",
      "30   mqtt.passwd_len  : \n",
      "0.0    206353\n",
      "Name: mqtt.passwd_len, dtype: int64\n",
      "31   mqtt.conack.flags  : \n",
      "0.0      205423\n",
      "97.0        206\n",
      "47.0        119\n",
      "105.0       110\n",
      "57.0        103\n",
      "98.0         93\n",
      "101.0        88\n",
      "111.0        86\n",
      "48.0         54\n",
      "56.0         17\n",
      "53.0         11\n",
      "55.0          9\n",
      "50.0          9\n",
      "54.0          7\n",
      "49.0          6\n",
      "52.0          6\n",
      "65.0          2\n",
      "68.0          1\n",
      "51.0          1\n",
      "66.0          1\n",
      "70.0          1\n",
      "Name: mqtt.conack.flags, dtype: int64\n",
      "32   mqtt.conact.flags.sp  : \n",
      "0.0    205612\n",
      "1.0       741\n",
      "Name: mqtt.conact.flags.sp, dtype: int64\n",
      "33   mqtt.conack.val  : \n",
      "0.0      205423\n",
      "48.0        146\n",
      "100.0       119\n",
      "116.0       110\n",
      "111.0       110\n",
      "108.0        96\n",
      "117.0        92\n",
      "101.0        88\n",
      "97.0         86\n",
      "53.0         11\n",
      "52.0         11\n",
      "54.0         10\n",
      "49.0         10\n",
      "56.0         10\n",
      "50.0          8\n",
      "57.0          8\n",
      "51.0          7\n",
      "55.0          4\n",
      "66.0          1\n",
      "102.0         1\n",
      "99.0          1\n",
      "98.0          1\n",
      "Name: mqtt.conack.val, dtype: int64\n",
      "34   mqtt.topic_len  : \n",
      "0.0        116518\n",
      "62.0        73894\n",
      "61.0         8234\n",
      "12.0         1139\n",
      "60.0          771\n",
      "            ...  \n",
      "28534.0         1\n",
      "43265.0         1\n",
      "28578.0         1\n",
      "28661.0         1\n",
      "63.0            1\n",
      "Name: mqtt.topic_len, Length: 754, dtype: int64\n",
      "35   mqtt.msglen  : \n",
      "0.0          122125\n",
      "100.0          6603\n",
      "99.0           6579\n",
      "101.0          6338\n",
      "98.0           6250\n",
      "97.0           5877\n",
      "102.0          5763\n",
      "96.0           5227\n",
      "103.0          5185\n",
      "104.0          4531\n",
      "95.0           4359\n",
      "94.0           3669\n",
      "105.0          3661\n",
      "106.0          2840\n",
      "93.0           2793\n",
      "107.0          2170\n",
      "92.0           2151\n",
      "108.0          1567\n",
      "91.0           1478\n",
      "2.0            1107\n",
      "90.0           1100\n",
      "109.0          1079\n",
      "110.0           736\n",
      "89.0            700\n",
      "111.0           471\n",
      "88.0            464\n",
      "87.0            309\n",
      "112.0           292\n",
      "113.0           175\n",
      "86.0            169\n",
      "1.0             134\n",
      "85.0            106\n",
      "114.0           105\n",
      "115.0            57\n",
      "84.0             55\n",
      "116.0            30\n",
      "83.0             29\n",
      "117.0            19\n",
      "82.0             13\n",
      "3.0              11\n",
      "118.0             8\n",
      "81.0              7\n",
      "119.0             5\n",
      "80.0              3\n",
      "1096830.0         1\n",
      "121.0             1\n",
      "76.0              1\n",
      "Name: mqtt.msglen, dtype: int64\n",
      "36   mqtt.sub.qos  : \n",
      "0.0    206353\n",
      "Name: mqtt.sub.qos, dtype: int64\n",
      "37   mqtt.suback.qos  : \n",
      "0.0     206347\n",
      "54.0         1\n",
      "98.0         1\n",
      "70.0         1\n",
      "68.0         1\n",
      "48.0         1\n",
      "69.0         1\n",
      "Name: mqtt.suback.qos, dtype: int64\n",
      "38   label  : \n",
      "0    104758\n",
      "1    101595\n",
      "Name: label, dtype: int64\n"
     ]
    }
   ],
   "source": [
    "print('size row,col:',len(df.index),len(df.columns))\n",
    "\n",
    "colnames = list(df.columns)\n",
    "print(colnames)\n",
    "\n",
    "print()\n",
    "print(df.dtypes)\n",
    "\n",
    "print()\n",
    "for i in range(len(colnames)):\n",
    "    print(i,' ',colnames[i],' : ')\n",
    "    vc = df[colnames[i]].value_counts()\n",
    "    # vc = vc.reindex(sorted(vc.keys()))\n",
    "    print(vc)\n",
    "\n",
    "# print()\n",
    "# for i in range(len(colnames)):\n",
    "#     print(df[colnames[i]].describe())\n",
    "#     print()\n",
    "\n",
    "# numeric_cols = []\n",
    "# print()\n",
    "# for i in range(len(numeric_cols)):\n",
    "#     print(i,' ',numeric_cols[i],' : ')\n",
    "#     print(min(df[numeric_cols[i]]))\n",
    "#     print(max(df[numeric_cols[i]]))\n",
    "#     print()\n",
    "\n",
    "# df['http_version'].unique()\n"
   ]
  },
  {
   "attachments": {},
   "cell_type": "markdown",
   "metadata": {},
   "source": [
    "### 1.2.Split dataset to train and test \n",
    "Train   : 80%\n",
    "Test    : 20%"
   ]
  },
  {
   "cell_type": "code",
   "execution_count": 12,
   "metadata": {},
   "outputs": [
    {
     "name": "stdout",
     "output_type": "stream",
     "text": [
      "[1 0]\n"
     ]
    }
   ],
   "source": [
    "from sklearn.model_selection import train_test_split\n",
    "\n",
    "train, test = train_test_split(df, test_size=0.2)\n",
    "dataX = df.drop([ 'label'], axis=1)\n",
    "dataY = df['label']\n",
    "\n",
    "train_X = train.drop(['label'], axis=1)\n",
    "train_Y = train['label']\n",
    "\n",
    "test_X = test.drop(['label'], axis=1)\n",
    "test_Y = test['label']\n",
    "\n",
    "type_class = train['label'].unique()\n",
    "print(type_class)\n"
   ]
  },
  {
   "cell_type": "code",
   "execution_count": 13,
   "metadata": {},
   "outputs": [],
   "source": [
    "# Extract feature name\n",
    "test_cols = list(test_X.columns)\n",
    "\n",
    "featurenamefile = 'Feature_use_training.dat'\n",
    "f = open(featurenamefile,'w')\n",
    "for name in test_cols:\n",
    "    f.write(name+'\\n')\n",
    "f.close()"
   ]
  },
  {
   "attachments": {},
   "cell_type": "markdown",
   "metadata": {},
   "source": [
    "### 1.3.Visualise the distribution of dataset"
   ]
  },
  {
   "cell_type": "code",
   "execution_count": 14,
   "metadata": {},
   "outputs": [
    {
     "data": {
      "text/plain": [
       "<AxesSubplot: >"
      ]
     },
     "execution_count": 14,
     "metadata": {},
     "output_type": "execute_result"
    },
    {
     "data": {
      "image/png": "[encoded data removed]",
      "text/plain": [
       "<Figure size 640x480 with 1 Axes>"
      ]
     },
     "metadata": {},
     "output_type": "display_data"
    }
   ],
   "source": [
    "pd.DataFrame({\n",
    "  'train': train['label'].value_counts(),\n",
    "  'test': test['label'].value_counts()},\n",
    "  ).plot.bar(rot=0)"
   ]
  },
  {
   "cell_type": "code",
   "execution_count": 15,
   "metadata": {},
   "outputs": [
    {
     "data": {
      "text/plain": [
       "<AxesSubplot: >"
      ]
     },
     "execution_count": 15,
     "metadata": {},
     "output_type": "execute_result"
    },
    {
     "data": {
      "image/png": "[encoded data removed]",
      "text/plain": [
       "<Figure size 640x480 with 1 Axes>"
      ]
     },
     "metadata": {},
     "output_type": "display_data"
    }
   ],
   "source": [
    "train_Y.value_counts().plot.bar(rot=45)"
   ]
  },
  {
   "attachments": {},
   "cell_type": "markdown",
   "metadata": {},
   "source": [
    "## 2.ML (without cross-validation)\n"
   ]
  },
  {
   "attachments": {},
   "cell_type": "markdown",
   "metadata": {},
   "source": [
    "### 2.1.LinearSVC\n",
    "\n",
    "**default loss : ‘squared_hinge’ is like hinge but is quadratically penalized.**"
   ]
  },
  {
   "cell_type": "code",
   "execution_count": 16,
   "metadata": {},
   "outputs": [
    {
     "name": "stdout",
     "output_type": "stream",
     "text": [
      "train acc: 1.0\n",
      "test acc: 1.0\n"
     ]
    }
   ],
   "source": [
    "from sklearn.svm import LinearSVC\n",
    "from sklearn import metrics\n",
    "\n",
    "#Train\n",
    "lsvc_model = LinearSVC(C=0.1, dual=False, max_iter=10000)\n",
    "lsvc_model.fit(train_X, train_Y)\n",
    "\n",
    "lsvc_preds = lsvc_model.predict(train_X)\n",
    "lsvc_accuracy = metrics.accuracy_score(train_Y, lsvc_preds)\n",
    "print('train acc:',lsvc_accuracy)\n",
    "\n",
    "#Test\n",
    "lsvc_test_preds = lsvc_model.predict(test_X)\n",
    "lsvc_test_accuracy = metrics.accuracy_score(test_Y, lsvc_test_preds)\n",
    "print('test acc:',lsvc_test_accuracy)"
   ]
  },
  {
   "cell_type": "code",
   "execution_count": 17,
   "metadata": {},
   "outputs": [
    {
     "name": "stdout",
     "output_type": "stream",
     "text": [
      "              precision    recall  f1-score   support\n",
      "\n",
      "           0       1.00      1.00      1.00     21038\n",
      "           1       1.00      1.00      1.00     20233\n",
      "\n",
      "    accuracy                           1.00     41271\n",
      "   macro avg       1.00      1.00      1.00     41271\n",
      "weighted avg       1.00      1.00      1.00     41271\n",
      "\n"
     ]
    },
    {
     "data": {
      "image/png": "[encoded data removed]",
      "text/plain": [
       "<Figure size 640x480 with 2 Axes>"
      ]
     },
     "metadata": {},
     "output_type": "display_data"
    },
    {
     "data": {
      "image/png": "[encoded data removed]",
      "text/plain": [
       "<Figure size 640x480 with 1 Axes>"
      ]
     },
     "metadata": {},
     "output_type": "display_data"
    }
   ],
   "source": [
    "#Evaluate\n",
    "print(metrics.classification_report(test_Y,lsvc_test_preds))\n",
    "\n",
    "conf_matrix = metrics.confusion_matrix(test_Y, lsvc_test_preds, labels=type_class)\n",
    "metrics.ConfusionMatrixDisplay(confusion_matrix=conf_matrix, display_labels=type_class).plot(xticks_rotation=90)\n",
    "\n",
    "# precision_score, recall_score, fbeta_score, count = metrics.precision_recall_fscore_support(test_Y,lsvc_test_preds,labels=type_class)\n",
    "# print(precision_score, recall_score, fbeta_score)\n",
    "\n",
    "from sklearn.metrics import roc_curve,RocCurveDisplay\n",
    "roc_display = RocCurveDisplay.from_estimator(lsvc_model,test_X,test_Y)"
   ]
  },
  {
   "cell_type": "code",
   "execution_count": 18,
   "metadata": {},
   "outputs": [
    {
     "data": {
      "text/plain": [
       "['IDSF_model_LSVC.joblib']"
      ]
     },
     "execution_count": 18,
     "metadata": {},
     "output_type": "execute_result"
    }
   ],
   "source": [
    "import joblib\n",
    "\n",
    "modelfile = 'IDSF_model'\n",
    "filetype = '.joblib'\n",
    "\n",
    "# linearSVC\n",
    "filename = modelfile + '_LSVC' + filetype\n",
    "joblib.dump(lsvc_model,filename)\n"
   ]
  },
  {
   "attachments": {},
   "cell_type": "markdown",
   "metadata": {},
   "source": [
    "### 2.2.SGDClassifier (not recommend)\n",
    "\n",
    "**SVM with logistic regression, a probabilistic classifier**\n",
    "\n",
    "SGDClassifier can optimize the same cost function as LinearSVC by adjusting the penalty and loss parameters. In addition it requires less memory, allows incremental (online) learning, and implements various loss functions and regularization regimes.\n",
    "\n",
    "Stochastic Gradient Descent is sensitive to feature scaling, so it is highly recommended to scale your data. For example, scale each attribute on the input vector X to [0,1] or [-1,+1], or standardize it to have mean 0 and variance 1. Note that the same scaling must be applied to the test vector to obtain meaningful results"
   ]
  },
  {
   "cell_type": "code",
   "execution_count": 19,
   "metadata": {},
   "outputs": [
    {
     "name": "stdout",
     "output_type": "stream",
     "text": [
      "train acc: 1.0\n",
      "test acc: 1.0\n"
     ]
    }
   ],
   "source": [
    "from sklearn.linear_model import SGDClassifier\n",
    "from sklearn import metrics\n",
    "\n",
    "#Train\n",
    "sgd_model = SGDClassifier(loss='log',max_iter=10000)\n",
    "sgd_model.fit(train_X, train_Y)\n",
    "\n",
    "sgd_preds = sgd_model.predict(train_X)\n",
    "sgd_accuracy = metrics.accuracy_score(train_Y, sgd_preds)\n",
    "print('train acc:',sgd_accuracy)\n",
    "\n",
    "#Test\n",
    "sgd_test_preds = sgd_model.predict(test_X)\n",
    "sgd_test_accuracy = metrics.accuracy_score(test_Y, sgd_test_preds)\n",
    "print('test acc:',sgd_test_accuracy)"
   ]
  },
  {
   "cell_type": "code",
   "execution_count": 20,
   "metadata": {},
   "outputs": [
    {
     "name": "stdout",
     "output_type": "stream",
     "text": [
      "              precision    recall  f1-score   support\n",
      "\n",
      "           0       1.00      1.00      1.00     21038\n",
      "           1       1.00      1.00      1.00     20233\n",
      "\n",
      "    accuracy                           1.00     41271\n",
      "   macro avg       1.00      1.00      1.00     41271\n",
      "weighted avg       1.00      1.00      1.00     41271\n",
      "\n"
     ]
    },
    {
     "data": {
      "image/png": "[encoded data removed]",
      "text/plain": [
       "<Figure size 640x480 with 2 Axes>"
      ]
     },
     "metadata": {},
     "output_type": "display_data"
    },
    {
     "data": {
      "image/png": "[encoded data removed]",
      "text/plain": [
       "<Figure size 640x480 with 1 Axes>"
      ]
     },
     "metadata": {},
     "output_type": "display_data"
    }
   ],
   "source": [
    "#Evaluate\n",
    "print(metrics.classification_report(test_Y,sgd_test_preds))\n",
    "\n",
    "conf_matrix = metrics.confusion_matrix(test_Y, sgd_test_preds, labels=type_class)\n",
    "metrics.ConfusionMatrixDisplay(confusion_matrix=conf_matrix, display_labels=type_class).plot()\n",
    "\n",
    "from sklearn.metrics import roc_curve,RocCurveDisplay\n",
    "roc_display = RocCurveDisplay.from_estimator(sgd_model,test_X,test_Y) "
   ]
  },
  {
   "cell_type": "code",
   "execution_count": 21,
   "metadata": {},
   "outputs": [
    {
     "data": {
      "text/plain": [
       "['IDSF_model_SGDC.joblib']"
      ]
     },
     "execution_count": 21,
     "metadata": {},
     "output_type": "execute_result"
    }
   ],
   "source": [
    "import joblib\n",
    "\n",
    "modelfile = 'IDSF_model'\n",
    "filetype = '.joblib'\n",
    "\n",
    "# SGDC\n",
    "filename = modelfile + '_SGDC' + filetype\n",
    "joblib.dump(sgd_model,filename)\n"
   ]
  },
  {
   "attachments": {},
   "cell_type": "markdown",
   "metadata": {},
   "source": [
    "### 2.3 Decision Tree\n",
    "\n",
    "random forest"
   ]
  },
  {
   "cell_type": "code",
   "execution_count": 22,
   "metadata": {},
   "outputs": [
    {
     "name": "stdout",
     "output_type": "stream",
     "text": [
      "train acc: 1.0\n",
      "test acc: 1.0\n"
     ]
    }
   ],
   "source": [
    "from sklearn.tree import DecisionTreeClassifier\n",
    "from sklearn import metrics\n",
    "\n",
    "dt_clf = DecisionTreeClassifier()\n",
    "dt_clf = dt_clf.fit(train_X, train_Y)\n",
    "\n",
    "dt_clf_train_preds = dt_clf.predict(train_X)\n",
    "dt_clf_train_accuracy = metrics.accuracy_score(train_Y, dt_clf_train_preds)\n",
    "print('train acc:',dt_clf_train_accuracy)\n",
    "\n",
    "#Test\n",
    "dt_clf_test_preds = dt_clf.predict(test_X)\n",
    "dt_clf_test_accuracy = metrics.accuracy_score(test_Y, dt_clf_test_preds)\n",
    "print('test acc:',dt_clf_test_accuracy)"
   ]
  },
  {
   "cell_type": "code",
   "execution_count": 23,
   "metadata": {},
   "outputs": [
    {
     "name": "stdout",
     "output_type": "stream",
     "text": [
      "              precision    recall  f1-score   support\n",
      "\n",
      "           0       1.00      1.00      1.00     21038\n",
      "           1       1.00      1.00      1.00     20233\n",
      "\n",
      "    accuracy                           1.00     41271\n",
      "   macro avg       1.00      1.00      1.00     41271\n",
      "weighted avg       1.00      1.00      1.00     41271\n",
      "\n"
     ]
    },
    {
     "data": {
      "image/png": "[encoded data removed]",
      "text/plain": [
       "<Figure size 640x480 with 2 Axes>"
      ]
     },
     "metadata": {},
     "output_type": "display_data"
    },
    {
     "data": {
      "image/png": "[encoded data removed]",
      "text/plain": [
       "<Figure size 640x480 with 1 Axes>"
      ]
     },
     "metadata": {},
     "output_type": "display_data"
    }
   ],
   "source": [
    "#Evaluate\n",
    "print(metrics.classification_report(test_Y,dt_clf_test_preds))\n",
    "\n",
    "conf_matrix = metrics.confusion_matrix(test_Y, dt_clf_test_preds, labels=type_class)\n",
    "metrics.ConfusionMatrixDisplay(confusion_matrix=conf_matrix, display_labels=type_class).plot()\n",
    "\n",
    "from sklearn.metrics import roc_curve,RocCurveDisplay\n",
    "roc_display = RocCurveDisplay.from_estimator(dt_clf,test_X,test_Y) "
   ]
  },
  {
   "cell_type": "code",
   "execution_count": 24,
   "metadata": {},
   "outputs": [
    {
     "data": {
      "text/plain": [
       "['IDSF_model_DT.joblib']"
      ]
     },
     "execution_count": 24,
     "metadata": {},
     "output_type": "execute_result"
    }
   ],
   "source": [
    "import joblib\n",
    "\n",
    "modelfile = 'IDSF_model'\n",
    "filetype = '.joblib'\n",
    "\n",
    "# Decision Tree\n",
    "filename = modelfile + '_DT' + filetype\n",
    "joblib.dump(dt_clf,filename)\n"
   ]
  },
  {
   "attachments": {},
   "cell_type": "markdown",
   "metadata": {},
   "source": [
    "### 2.4 NeuralNet"
   ]
  },
  {
   "cell_type": "code",
   "execution_count": 25,
   "metadata": {},
   "outputs": [
    {
     "name": "stdout",
     "output_type": "stream",
     "text": [
      "train acc: 1.0\n",
      "test acc: 1.0\n"
     ]
    }
   ],
   "source": [
    "from sklearn.neural_network import MLPClassifier\n",
    "from sklearn import metrics\n",
    "\n",
    "mpl_clf = MLPClassifier(solver='adam',\n",
    "                        activation = 'relu',\n",
    "                        alpha=1e-4,\n",
    "                        learning_rate = 'adaptive',\n",
    "                        hidden_layer_sizes=(50,38), \n",
    "                        random_state=1)\n",
    "mpl_clf = mpl_clf.fit(train_X, train_Y)\n",
    "\n",
    "mpl_clf_train_preds = mpl_clf.predict(train_X)\n",
    "mpl_clf_train_accuracy = metrics.accuracy_score(train_Y, mpl_clf_train_preds)\n",
    "print('train acc:',mpl_clf_train_accuracy)\n",
    "\n",
    "#Test\n",
    "mpl_clf_test_preds = mpl_clf.predict(test_X)\n",
    "mpl_clf_test_accuracy = metrics.accuracy_score(test_Y, mpl_clf_test_preds)\n",
    "print('test acc:',mpl_clf_test_accuracy)"
   ]
  },
  {
   "cell_type": "code",
   "execution_count": 26,
   "metadata": {},
   "outputs": [
    {
     "name": "stdout",
     "output_type": "stream",
     "text": [
      "              precision    recall  f1-score   support\n",
      "\n",
      "           0       1.00      1.00      1.00     21038\n",
      "           1       1.00      1.00      1.00     20233\n",
      "\n",
      "    accuracy                           1.00     41271\n",
      "   macro avg       1.00      1.00      1.00     41271\n",
      "weighted avg       1.00      1.00      1.00     41271\n",
      "\n"
     ]
    },
    {
     "data": {
      "image/png": "[encoded data removed]",
      "text/plain": [
       "<Figure size 640x480 with 2 Axes>"
      ]
     },
     "metadata": {},
     "output_type": "display_data"
    },
    {
     "data": {
      "image/png": "[encoded data removed]",
      "text/plain": [
       "<Figure size 640x480 with 1 Axes>"
      ]
     },
     "metadata": {},
     "output_type": "display_data"
    }
   ],
   "source": [
    "#Evaluate\n",
    "print(metrics.classification_report(test_Y,mpl_clf_test_preds))\n",
    "\n",
    "conf_matrix = metrics.confusion_matrix(test_Y, mpl_clf_test_preds, labels=type_class)\n",
    "metrics.ConfusionMatrixDisplay(confusion_matrix=conf_matrix, display_labels=type_class).plot()\n",
    "\n",
    "from sklearn.metrics import roc_curve,RocCurveDisplay\n",
    "roc_display = RocCurveDisplay.from_estimator(mpl_clf,test_X,test_Y) "
   ]
  },
  {
   "cell_type": "code",
   "execution_count": 27,
   "metadata": {},
   "outputs": [
    {
     "data": {
      "text/plain": [
       "['IDSF_model_Neural.joblib']"
      ]
     },
     "execution_count": 27,
     "metadata": {},
     "output_type": "execute_result"
    }
   ],
   "source": [
    "import joblib\n",
    "\n",
    "modelfile = 'IDSF_model'\n",
    "filetype = '.joblib'\n",
    "\n",
    "# neural net\n",
    "filename = modelfile + '_Neural' + filetype\n",
    "joblib.dump(mpl_clf,filename)\n"
   ]
  },
  {
   "attachments": {},
   "cell_type": "markdown",
   "metadata": {},
   "source": [
    "### 2.5 Non-linear SVM\n",
    "\n",
    "Parameters of the RBF Kernel\n",
    "\n",
    "When training an SVM with the Radial Basis Function (RBF) kernel, two parameters must be considered: C and gamma. The parameter C, common to all SVM kernels, trades off misclassification of training examples against simplicity of the decision surface. A low C makes the decision surface smooth, while a high C aims at classifying all training examples correctly. gamma defines how much influence a single training example has. The larger gamma is, the closer other examples must be to be affected."
   ]
  },
  {
   "cell_type": "code",
   "execution_count": 128,
   "metadata": {},
   "outputs": [
    {
     "ename": "",
     "evalue": "",
     "output_type": "error",
     "traceback": [
      "\u001b[1;31mCanceled future for execute_request message before replies were done"
     ]
    }
   ],
   "source": [
    "from sklearn.svm import SVC\n",
    "from sklearn import metrics\n",
    "\n",
    "rbf_svc_clf = SVC(C=0.1,kernel='rbf',gamma='auto',tol=1e-3)\n",
    "rbf_svc_clf = rbf_svc_clf.fit(train_X, train_Y)\n",
    "\n",
    "rbf_svc_clf_train_preds = rbf_svc_clf.predict(train_X)\n",
    "rbf_svc_clf_train_accuracy = metrics.accuracy_score(train_Y, rbf_svc_clf_train_preds)\n",
    "print('train acc:',rbf_svc_clf_train_accuracy)\n",
    "\n",
    "#Test\n",
    "rbf_svc_clf_test_preds = rbf_svc_clf.predict(test_X)\n",
    "rbf_svc_clf_test_accuracy = metrics.accuracy_score(test_Y, rbf_svc_clf_test_preds)\n",
    "print('test acc:',rbf_svc_clf_test_accuracy)"
   ]
  },
  {
   "cell_type": "code",
   "execution_count": null,
   "metadata": {},
   "outputs": [],
   "source": [
    "#Evaluate\n",
    "print(metrics.classification_report(test_Y,rbf_svc_clf_test_preds))\n",
    "\n",
    "conf_matrix = metrics.confusion_matrix(test_Y, rbf_svc_clf_test_preds, labels=type_class)\n",
    "metrics.ConfusionMatrixDisplay(confusion_matrix=conf_matrix, display_labels=type_class).plot()\n",
    "\n",
    "from sklearn.metrics import roc_curve,RocCurveDisplay\n",
    "roc_display = RocCurveDisplay.from_estimator(rbf_svc_clf,test_X,test_Y) "
   ]
  },
  {
   "cell_type": "code",
   "execution_count": null,
   "metadata": {},
   "outputs": [],
   "source": [
    "import joblib\n",
    "\n",
    "modelfile = 'IDSF_model'\n",
    "filetype = '.joblib'\n",
    "\n",
    "# RBF SVC\n",
    "filename = modelfile + '_RBF_SVC' + filetype\n",
    "joblib.dump(rbf_svc_clf,filename)\n"
   ]
  },
  {
   "attachments": {},
   "cell_type": "markdown",
   "metadata": {},
   "source": [
    "## 3.Grid Search: Hyperparameter Tuning\n",
    "\n",
    "Default cv: default 5-fold cross validation\n"
   ]
  },
  {
   "attachments": {},
   "cell_type": "markdown",
   "metadata": {},
   "source": [
    "### 3.1 Linear\n",
    "\n",
    "Linear get to optimal maxima but stochastic only go local maxima so it get the general characteristic instead of "
   ]
  },
  {
   "cell_type": "code",
   "execution_count": 28,
   "metadata": {},
   "outputs": [
    {
     "name": "stdout",
     "output_type": "stream",
     "text": [
      "mean= 1.0 , std= 0.0\n",
      "mean train acc: 1.0\n",
      "mean test acc: 1.0\n"
     ]
    }
   ],
   "source": [
    "from sklearn.svm import LinearSVC\n",
    "from sklearn import metrics\n",
    "from sklearn.model_selection import cross_val_score,cross_validate\n",
    "\n",
    "lsvc_model = LinearSVC(C=0.1, dual=False, max_iter=10000)\n",
    "\n",
    "#Cross-validation Train\n",
    "lsvc_cv = cross_validate(lsvc_model,train_X,train_Y,return_estimator=True) \n",
    "print('mean=',lsvc_cv['test_score'].mean(),', std=',lsvc_cv['test_score'].std())\n",
    "\n",
    "lsvc_train_preds = []\n",
    "for mdl in lsvc_cv['estimator']:\n",
    "    lsvc_train_preds.append(mdl.score(train_X,train_Y))\n",
    "lsvc_accuracy = sum(lsvc_train_preds)/len(lsvc_train_preds)\n",
    "print('mean train acc:',lsvc_accuracy)\n",
    "\n",
    "#Test\n",
    "lsvc_test_preds = []\n",
    "for mdl in lsvc_cv['estimator']:\n",
    "    lsvc_test_preds.append(mdl.score(test_X,test_Y)) \n",
    "lsvc_test_accuracy = sum(lsvc_test_preds)/len(lsvc_test_preds)\n",
    "print('mean test acc:',lsvc_test_accuracy)\n",
    "\n",
    "#Best estimator\n",
    "best_mdl_idx = lsvc_test_preds.index(max(lsvc_test_preds))\n",
    "lsvc_model = lsvc_cv['estimator'][best_mdl_idx]\n"
   ]
  },
  {
   "cell_type": "code",
   "execution_count": 5,
   "metadata": {},
   "outputs": [
    {
     "data": {
      "text/plain": [
       "['IDSF_model_LSVC.joblib']"
      ]
     },
     "execution_count": 5,
     "metadata": {},
     "output_type": "execute_result"
    }
   ],
   "source": [
    "import joblib\n",
    "\n",
    "modelfile = 'IDSF_model'\n",
    "filetype = '.joblib'\n",
    "\n",
    "# linearSVC\n",
    "filename = modelfile + '_LSVC' + filetype\n",
    "joblib.dump(lsvc_model,filename)\n"
   ]
  },
  {
   "attachments": {},
   "cell_type": "markdown",
   "metadata": {},
   "source": [
    "### 3.2 SGDClassifier"
   ]
  },
  {
   "cell_type": "code",
   "execution_count": 29,
   "metadata": {},
   "outputs": [
    {
     "name": "stdout",
     "output_type": "stream",
     "text": [
      "mean= 1.0 , std= 0.0\n",
      "mean train acc: 1.0\n",
      "mean test acc: 0.9999951539822151\n"
     ]
    }
   ],
   "source": [
    "from sklearn.linear_model import SGDClassifier\n",
    "from sklearn import metrics\n",
    "from sklearn.model_selection import cross_val_score,cross_validate\n",
    "\n",
    "sgd_model = SGDClassifier(loss='log',max_iter=10000)\n",
    "\n",
    "#Cross-validation Train\n",
    "sgd_cv = cross_validate(sgd_model,train_X,train_Y,return_estimator=True) \n",
    "print('mean=',sgd_cv['test_score'].mean(),', std=',sgd_cv['test_score'].std())\n",
    "\n",
    "sgd_train_preds = []\n",
    "for mdl in sgd_cv['estimator']:\n",
    "    sgd_train_preds.append(mdl.score(train_X,train_Y))\n",
    "sgd_accuracy = sum(sgd_train_preds)/len(sgd_train_preds)\n",
    "print('mean train acc:',sgd_accuracy)\n",
    "\n",
    "#Test\n",
    "sgd_test_preds = []\n",
    "for mdl in sgd_cv['estimator']:\n",
    "    sgd_test_preds.append(mdl.score(test_X,test_Y)) \n",
    "sgd_test_accuracy = sum(sgd_test_preds)/len(sgd_test_preds)\n",
    "print('mean test acc:',sgd_test_accuracy)\n",
    "\n",
    "#Best estimator\n",
    "best_mdl_idx = sgd_test_preds.index(max(sgd_test_preds))\n",
    "sgd_model = sgd_cv['estimator'][best_mdl_idx]\n"
   ]
  },
  {
   "cell_type": "code",
   "execution_count": 30,
   "metadata": {},
   "outputs": [
    {
     "data": {
      "text/plain": [
       "['IDSF_model_SGDC.joblib']"
      ]
     },
     "execution_count": 30,
     "metadata": {},
     "output_type": "execute_result"
    }
   ],
   "source": [
    "import joblib\n",
    "\n",
    "modelfile = 'IDSF_model'\n",
    "filetype = '.joblib'\n",
    "\n",
    "# SGDC\n",
    "filename = modelfile + '_SGDC' + filetype\n",
    "joblib.dump(sgd_model,filename)\n"
   ]
  },
  {
   "attachments": {},
   "cell_type": "markdown",
   "metadata": {},
   "source": [
    "### 3.3 Decision Tree"
   ]
  },
  {
   "cell_type": "code",
   "execution_count": 31,
   "metadata": {},
   "outputs": [
    {
     "name": "stdout",
     "output_type": "stream",
     "text": [
      "mean= 1.0 , std= 0.0\n",
      "mean train acc: 1.0\n",
      "mean test acc: 1.0\n"
     ]
    }
   ],
   "source": [
    "from sklearn.tree import DecisionTreeClassifier\n",
    "from sklearn import metrics\n",
    "from sklearn.model_selection import cross_val_score,cross_validate\n",
    "\n",
    "dt_clf = DecisionTreeClassifier()\n",
    "\n",
    "#Cross-validation Train\n",
    "dt_clf_cv = cross_validate(dt_clf,train_X,train_Y,return_estimator=True) \n",
    "print('mean=',dt_clf_cv['test_score'].mean(),', std=',dt_clf_cv['test_score'].std())\n",
    "\n",
    "dt_clf_train_preds = []\n",
    "for mdl in dt_clf_cv['estimator']:\n",
    "    dt_clf_train_preds.append(mdl.score(train_X,train_Y))\n",
    "dt_clf_accuracy = sum(dt_clf_train_preds)/len(dt_clf_train_preds)\n",
    "print('mean train acc:',dt_clf_accuracy)\n",
    "\n",
    "#Test\n",
    "dt_clf_test_preds = []\n",
    "for mdl in dt_clf_cv['estimator']:\n",
    "    dt_clf_test_preds.append(mdl.score(test_X,test_Y)) \n",
    "dt_clf_test_accuracy = sum(dt_clf_test_preds)/len(dt_clf_test_preds)\n",
    "print('mean test acc:',dt_clf_test_accuracy)\n",
    "\n",
    "#Best estimator\n",
    "best_mdl_idx = dt_clf_test_preds.index(max(dt_clf_test_preds))\n",
    "dt_clf = dt_clf_cv['estimator'][best_mdl_idx]\n"
   ]
  },
  {
   "cell_type": "code",
   "execution_count": 32,
   "metadata": {},
   "outputs": [
    {
     "data": {
      "text/plain": [
       "['IDSF_model_DT.joblib']"
      ]
     },
     "execution_count": 32,
     "metadata": {},
     "output_type": "execute_result"
    }
   ],
   "source": [
    "import joblib\n",
    "\n",
    "modelfile = 'IDSF_model'\n",
    "filetype = '.joblib'\n",
    "\n",
    "# Decision Tree\n",
    "filename = modelfile + '_DT' + filetype\n",
    "joblib.dump(dt_clf,filename)\n"
   ]
  },
  {
   "attachments": {},
   "cell_type": "markdown",
   "metadata": {},
   "source": [
    "### 3.4 Neural Net"
   ]
  },
  {
   "cell_type": "code",
   "execution_count": 33,
   "metadata": {},
   "outputs": [
    {
     "name": "stdout",
     "output_type": "stream",
     "text": [
      "mean= 1.0 , std= 0.0\n",
      "mean train acc: 1.0\n",
      "mean test acc: 1.0\n"
     ]
    }
   ],
   "source": [
    "from sklearn.neural_network import MLPClassifier\n",
    "from sklearn import metrics\n",
    "from sklearn.model_selection import cross_val_score,cross_validate\n",
    "\n",
    "mpl_clf = MLPClassifier(solver='adam',\n",
    "                        activation = 'relu',\n",
    "                        alpha=1e-4,\n",
    "                        learning_rate = 'adaptive',\n",
    "                        hidden_layer_sizes=(50,38), \n",
    "                        random_state=1)\n",
    "\n",
    "#Cross-validation Train\n",
    "mpl_clf_cv = cross_validate(mpl_clf,train_X, train_Y,return_estimator=True)\n",
    "print('mean=',mpl_clf_cv['test_score'].mean(),', std=',mpl_clf_cv['test_score'].std())\n",
    "\n",
    "mpl_cv_train_preds = []\n",
    "for mdl in mpl_clf_cv['estimator']:\n",
    "    mpl_cv_train_preds.append(mdl.score(train_X,train_Y))\n",
    "mpl_cv_train_accuracy = sum(mpl_cv_train_preds)/len(mpl_cv_train_preds)\n",
    "print('mean train acc:',mpl_cv_train_accuracy)\n",
    "\n",
    "#Test\n",
    "mpl_cv_test_preds = []\n",
    "for mdl in mpl_clf_cv['estimator']:\n",
    "    mpl_cv_test_preds.append(mdl.score(test_X,test_Y)) \n",
    "mpl_cv_test_accuracy = sum(mpl_cv_test_preds)/len(mpl_cv_test_preds)\n",
    "print('mean test acc:',mpl_cv_test_accuracy)\n",
    "\n",
    "#Best estimator\n",
    "best_mdl_idx = mpl_cv_test_preds.index(max(mpl_cv_test_preds))\n",
    "mpl_clf = mpl_clf_cv['estimator'][best_mdl_idx]\n"
   ]
  },
  {
   "cell_type": "code",
   "execution_count": null,
   "metadata": {},
   "outputs": [],
   "source": [
    "# # mpl_cv_test_preds=mpl_clf_test_preds.copy()\n",
    "# best_mpl_model = mpl_clf_cv['estimator'][mpl_cv_test_preds.index(max(mpl_cv_test_preds))]\n",
    "\n",
    "# mpl_clf_test_preds = best_mpl_model.predict(test_X)\n",
    "# mpl_clf_test_accuracy = metrics.accuracy_score(test_Y, mpl_clf_test_preds)\n",
    "# print('test acc:',mpl_clf_test_accuracy)\n",
    "\n",
    "# #Evaluate\n",
    "# print(metrics.classification_report(test_Y,mpl_clf_test_preds))\n",
    "\n",
    "# conf_matrix = metrics.confusion_matrix(test_Y, mpl_clf_test_preds, labels=type_class)\n",
    "# metrics.ConfusionMatrixDisplay(confusion_matrix=conf_matrix, display_labels=type_class).plot()\n",
    "\n",
    "# from sklearn.metrics import roc_curve,RocCurveDisplay\n",
    "# roc_display = RocCurveDisplay.from_estimator(best_mpl_model,test_X,test_Y) "
   ]
  },
  {
   "cell_type": "code",
   "execution_count": 34,
   "metadata": {},
   "outputs": [
    {
     "data": {
      "text/plain": [
       "['IDSF_model_Neural.joblib']"
      ]
     },
     "execution_count": 34,
     "metadata": {},
     "output_type": "execute_result"
    }
   ],
   "source": [
    "import joblib\n",
    "\n",
    "modelfile = 'IDSF_model'\n",
    "filetype = '.joblib'\n",
    "\n",
    "# neural net\n",
    "filename = modelfile + '_Neural' + filetype\n",
    "joblib.dump(mpl_clf,filename)"
   ]
  },
  {
   "attachments": {},
   "cell_type": "markdown",
   "metadata": {},
   "source": [
    "### 3.5 Random Forest"
   ]
  },
  {
   "cell_type": "code",
   "execution_count": 35,
   "metadata": {},
   "outputs": [
    {
     "name": "stdout",
     "output_type": "stream",
     "text": [
      "mean= 1.0 , std= 0.0\n",
      "mean train acc: 1.0\n",
      "mean test acc: 1.0\n"
     ]
    }
   ],
   "source": [
    "from sklearn.ensemble import RandomForestClassifier\n",
    "from sklearn import metrics\n",
    "from sklearn.model_selection import cross_val_score,cross_validate\n",
    "\n",
    "rf_clf = RandomForestClassifier()\n",
    "\n",
    "#Cross-validation Train\n",
    "rf_clf_cv = cross_validate(rf_clf,train_X,train_Y,return_estimator=True) \n",
    "print('mean=',rf_clf_cv['test_score'].mean(),', std=',rf_clf_cv['test_score'].std())\n",
    "\n",
    "rf_clf_train_preds = []\n",
    "for mdl in rf_clf_cv['estimator']:\n",
    "    rf_clf_train_preds.append(mdl.score(train_X,train_Y))\n",
    "rf_clf_accuracy = sum(rf_clf_train_preds)/len(rf_clf_train_preds)\n",
    "print('mean train acc:',rf_clf_accuracy)\n",
    "\n",
    "#Test\n",
    "rf_clf_test_preds = []\n",
    "for mdl in rf_clf_cv['estimator']:\n",
    "    rf_clf_test_preds.append(mdl.score(test_X,test_Y)) \n",
    "rf_clf_test_accuracy = sum(rf_clf_test_preds)/len(rf_clf_test_preds)\n",
    "print('mean test acc:',rf_clf_test_accuracy)\n",
    "\n",
    "#Best estimator\n",
    "best_mdl_idx = rf_clf_test_preds.index(max(rf_clf_test_preds))\n",
    "rf_clf = rf_clf_cv['estimator'][best_mdl_idx]\n"
   ]
  },
  {
   "cell_type": "code",
   "execution_count": 36,
   "metadata": {},
   "outputs": [
    {
     "data": {
      "text/plain": [
       "['IDSF_model_RF.joblib']"
      ]
     },
     "execution_count": 36,
     "metadata": {},
     "output_type": "execute_result"
    }
   ],
   "source": [
    "import joblib\n",
    "\n",
    "modelfile = 'IDSF_model'\n",
    "filetype = '.joblib'\n",
    "\n",
    "# Decision Tree\n",
    "filename = modelfile + '_RF' + filetype\n",
    "joblib.dump(rf_clf,filename)\n"
   ]
  },
  {
   "attachments": {},
   "cell_type": "markdown",
   "metadata": {},
   "source": [
    "### 3.6 XGBoost"
   ]
  },
  {
   "cell_type": "code",
   "execution_count": 37,
   "metadata": {},
   "outputs": [
    {
     "name": "stdout",
     "output_type": "stream",
     "text": [
      "mean= 1.0 , std= 0.0\n",
      "mean train acc: 1.0\n",
      "mean test acc: 1.0\n"
     ]
    }
   ],
   "source": [
    "from xgboost import XGBClassifier\n",
    "from sklearn import metrics\n",
    "from sklearn.model_selection import cross_val_score,cross_validate\n",
    "\n",
    "xgb_clf = XGBClassifier()\n",
    "\n",
    "#Cross-validation Train\n",
    "xgb_clf_cv = cross_validate(xgb_clf,train_X,train_Y,return_estimator=True) \n",
    "print('mean=',xgb_clf_cv['test_score'].mean(),', std=',xgb_clf_cv['test_score'].std())\n",
    "\n",
    "xgb_clf_train_preds = []\n",
    "for mdl in xgb_clf_cv['estimator']:\n",
    "    xgb_clf_train_preds.append(mdl.score(train_X,train_Y))\n",
    "xgb_clf_accuracy = sum(xgb_clf_train_preds)/len(xgb_clf_train_preds)\n",
    "print('mean train acc:',xgb_clf_accuracy)\n",
    "\n",
    "#Test\n",
    "xgb_clf_test_preds = []\n",
    "for mdl in xgb_clf_cv['estimator']:\n",
    "    xgb_clf_test_preds.append(mdl.score(test_X,test_Y)) \n",
    "xgb_clf_test_accuracy = sum(xgb_clf_test_preds)/len(xgb_clf_test_preds)\n",
    "print('mean test acc:',xgb_clf_test_accuracy)\n",
    "\n",
    "#Best estimator\n",
    "best_mdl_idx = xgb_clf_test_preds.index(max(xgb_clf_test_preds))\n",
    "xgb_clf = xgb_clf_cv['estimator'][best_mdl_idx]\n"
   ]
  },
  {
   "cell_type": "code",
   "execution_count": 38,
   "metadata": {},
   "outputs": [
    {
     "data": {
      "text/plain": [
       "['IDSF_model_XGBoost.joblib']"
      ]
     },
     "execution_count": 38,
     "metadata": {},
     "output_type": "execute_result"
    }
   ],
   "source": [
    "import joblib\n",
    "\n",
    "modelfile = 'IDSF_model'\n",
    "filetype = '.joblib'\n",
    "\n",
    "# Decision Tree\n",
    "filename = modelfile + '_XGBoost' + filetype\n",
    "joblib.dump(xgb_clf,filename)\n"
   ]
  },
  {
   "attachments": {},
   "cell_type": "markdown",
   "metadata": {},
   "source": [
    "## 4. Model save and load\n",
    "\n",
    "Save model to pickle file"
   ]
  },
  {
   "cell_type": "code",
   "execution_count": null,
   "metadata": {},
   "outputs": [],
   "source": [
    "import joblib\n",
    "\n",
    "modelfile = 'IDSF_model'\n",
    "filetype = '.joblib'\n",
    "\n",
    "# linearSVC\n",
    "filename = modelfile + '_LSVC' + filetype\n",
    "joblib.dump(lsvc_model,filename)\n",
    "\n",
    "# SGDC\n",
    "filename = modelfile + '_SGDC' + filetype\n",
    "joblib.dump(sgd_model,filename)\n",
    "\n",
    "# Decision Tree\n",
    "filename = modelfile + '_DT' + filetype\n",
    "joblib.dump(dt_clf,filename)\n",
    "\n",
    "# neural net\n",
    "filename = modelfile + '_Neural' + filetype\n",
    "joblib.dump(mpl_clf,filename)\n",
    "\n",
    "# RBF SVC\n",
    "# filename = modelfile + '_RBF_SVC' + filetype\n",
    "# joblib.dump(rbf_svc_clf,filename)\n"
   ]
  },
  {
   "cell_type": "code",
   "execution_count": 13,
   "metadata": {},
   "outputs": [
    {
     "name": "stdout",
     "output_type": "stream",
     "text": [
      "LinearSVC(C=0.1, dual=False, max_iter=10000) 0.9354821664464993\n",
      "SGDClassifier(loss='log', max_iter=10000) 0.9245970937912814\n",
      "DecisionTreeClassifier() 0.9984147952443857\n",
      "MLPClassifier(hidden_layer_sizes=(50, 38), learning_rate='adaptive',\n",
      "              random_state=1) 0.9964068692206076\n"
     ]
    }
   ],
   "source": [
    "# Load\n",
    "\n",
    "# linearSVC\n",
    "filename = modelfile + '_LSVC' + filetype\n",
    "loaded_model = joblib.load(filename)\n",
    "result = loaded_model.score(test_X, test_Y)\n",
    "print(loaded_model,result)\n",
    "\n",
    "# SGDC\n",
    "filename = modelfile + '_SGDC' + filetype\n",
    "loaded_model = joblib.load(filename)\n",
    "result = loaded_model.score(test_X, test_Y)\n",
    "print(loaded_model,result)\n",
    "\n",
    "# Decision Tree\n",
    "filename = modelfile + '_DT' + filetype\n",
    "loaded_model = joblib.load(filename)\n",
    "result = loaded_model.score(test_X, test_Y)\n",
    "print(loaded_model,result)\n",
    "\n",
    "# neural net\n",
    "filename = modelfile + '_Neural' + filetype\n",
    "loaded_model = joblib.load(filename)\n",
    "result = loaded_model.score(test_X, test_Y)\n",
    "print(loaded_model,result)\n",
    "\n",
    "# RBF SVC\n",
    "# filename = modelfile + '_RBF_SVC' + filetype\n",
    "# loaded_model = joblib.load(filename)\n",
    "# result = loaded_model.score(test_X, test_Y)\n",
    "# print(loaded_model,result)\n"
   ]
  },
  {
   "attachments": {},
   "cell_type": "markdown",
   "metadata": {},
   "source": [
    "note: XGBoost, RF"
   ]
  },
  {
   "cell_type": "code",
   "execution_count": 1,
   "metadata": {},
   "outputs": [
    {
     "name": "stdout",
     "output_type": "stream",
     "text": [
      "1.7.3\n"
     ]
    }
   ],
   "source": [
    "import xgboost\n",
    "print(xgboost.__version__)\n"
   ]
  },
  {
   "cell_type": "code",
   "execution_count": 59,
   "metadata": {},
   "outputs": [
    {
     "name": "stdout",
     "output_type": "stream",
     "text": [
      "    id name subjects\n",
      "0  NaN  NaN      NaN\n",
      "   id name subjects\n",
      "0  10  NaN      NaN\n",
      "<class 'pandas.core.series.Series'>\n"
     ]
    }
   ],
   "source": [
    "# import pandas module\n",
    "import pandas as pd\n",
    " \n",
    "# create dataframe with 3 columns\n",
    "data = pd.DataFrame({\n",
    "    \"id\": [7058, 7059, 7072, 7054],\n",
    "    \"name\": ['sravan', 'jyothika', 'harsha', 'ramya'],\n",
    "    \"subjects\": ['java', 'python', 'html/php', 'php/js']\n",
    "}\n",
    ")\n",
    "\n",
    "colname = ['id','name','subjects']\n",
    "\n",
    "df_temp  = pd.DataFrame(index=[0],columns=colname)\n",
    "print(df_temp)\n",
    "\n",
    "df_temp['id'] = 10\n",
    "print(df_temp)\n",
    "# print(data)\n",
    "\n",
    "# row = pd.Series([1,'jon','c'],index = ['id','name','subjects'])\n",
    "# print(row)\n",
    "\n",
    "data = pd.concat([data,df_temp],ignore_index=True)\n",
    "\n",
    "data['id'] = 10\n",
    "print(type(data['id']))\n",
    "\n",
    "# df = pd.DataFrame(0,index=[0], columns=colnames)\n",
    "# testsr = pd.Series(0,index=colnames)\n",
    "\n",
    "# print(testsr['frame.len'])\n",
    "\n"
   ]
  },
  {
   "cell_type": "code",
   "execution_count": 61,
   "metadata": {},
   "outputs": [
    {
     "name": "stdout",
     "output_type": "stream",
     "text": [
      "<class 'scapy.layers.inet.TCP'>\n",
      "<class 'scapy.packet.NoPayload'>\n",
      "###[ IP ]### \n",
      "  version   = 4\n",
      "  ihl       = None\n",
      "  tos       = 0x0\n",
      "  len       = None\n",
      "  id        = 1\n",
      "  flags     = \n",
      "  frag      = 0\n",
      "  ttl       = 64\n",
      "  proto     = tcp\n",
      "  chksum    = None\n",
      "  src       = 127.0.0.1\n",
      "  dst       = 127.0.0.1\n",
      "  \\options   \\\n",
      "###[ TCP ]### \n",
      "     sport     = ftp_data\n",
      "     dport     = http\n",
      "     seq       = 0\n",
      "     ack       = 0\n",
      "     dataofs   = None\n",
      "     reserved  = 0\n",
      "     flags     = S\n",
      "     window    = 8192\n",
      "     chksum    = None\n",
      "     urgptr    = 0\n",
      "     options   = ''\n",
      "\n"
     ]
    }
   ],
   "source": [
    "from scapy.all import IP,TCP\n",
    "ip_packet = IP()/TCP()\n",
    "\n",
    "tcp_packet = ip_packet.payload\n",
    "print(type(tcp_packet))\n",
    "\n",
    "pay = tcp_packet.payload\n",
    "print(type(pay))\n",
    "\n",
    "if ip_packet.haslayer(IP):\n",
    "    ip_packet = ip_packet[IP]\n",
    "ip_packet.show()"
   ]
  },
  {
   "cell_type": "code",
   "execution_count": 57,
   "metadata": {},
   "outputs": [
    {
     "data": {
      "text/plain": [
       "'emulation_dataset_23-02-2023_1312.csv'"
      ]
     },
     "execution_count": 57,
     "metadata": {},
     "output_type": "execute_result"
    }
   ],
   "source": [
    "from datetime import datetime\n",
    "datetime_str = datetime.now().strftime('%d-%m-%Y_%H%M')\n",
    "csvfile = 'emulation_dataset_'+datetime_str+'.csv'\n",
    "csvfile"
   ]
  }
 ],
 "metadata": {
  "kernelspec": {
   "display_name": "base",
   "language": "python",
   "name": "python3"
  },
  "language_info": {
   "codemirror_mode": {
    "name": "ipython",
    "version": 3
   },
   "file_extension": ".py",
   "mimetype": "text/x-python",
   "name": "python",
   "nbconvert_exporter": "python",
   "pygments_lexer": "ipython3",
   "version": "3.9.16"
  },
  "orig_nbformat": 4,
  "vscode": {
   "interpreter": {
    "hash": "d87cc2941caed201d61a78344006b31eb8d748667d744b5a3feab35cf594091a"
   }
  }
 },
 "nbformat": 4,
 "nbformat_minor": 2
}
